{
 "cells": [
  {
   "cell_type": "markdown",
   "metadata": {},
   "source": [
    "### Q2"
   ]
  },
  {
   "cell_type": "code",
   "execution_count": 2,
   "metadata": {},
   "outputs": [
    {
     "name": "stdout",
     "output_type": "stream",
     "text": [
      "LETS UPGRADE\n"
     ]
    }
   ],
   "source": [
    "s = \"Lets Upgrade\"\n",
    "print(s.upper())"
   ]
  },
  {
   "cell_type": "markdown",
   "metadata": {},
   "source": [
    "### Q3"
   ]
  },
  {
   "cell_type": "code",
   "execution_count": 5,
   "metadata": {},
   "outputs": [
    {
     "name": "stdout",
     "output_type": "stream",
     "text": [
      "Profit\n"
     ]
    }
   ],
   "source": [
    "# Function to calculate Profit. \n",
    "def Profit(costPrice, sellingPrice) : \n",
    "    profit = (sellingPrice - costPrice) \n",
    "    return profit \n",
    "  \n",
    "# Function to calculate Loss. \n",
    "def Loss(costPrice, sellingPrice) : \n",
    "    Loss = (costPrice - sellingPrice) \n",
    "    return Loss \n",
    "  \n",
    "# Main code \n",
    "if __name__ == \"__main__\" : \n",
    "  \n",
    "    costPrice, sellingPrice = 19, 95\n",
    "  \n",
    "    if sellingPrice == costPrice : \n",
    "        print(\"No profit nor Loss\") \n",
    "  \n",
    "    elif sellingPrice > costPrice : \n",
    "        print(\"Profit\")\n",
    "        #print(Profit(costPrice, sellingPrice), \"Profit\") \n",
    "  \n",
    "    else : \n",
    "        print(\"Loss\") "
   ]
  },
  {
   "cell_type": "markdown",
   "metadata": {},
   "source": [
    "### Q4"
   ]
  },
  {
   "cell_type": "code",
   "execution_count": null,
   "metadata": {},
   "outputs": [],
   "source": [
    "# pip install forex-python\n"
   ]
  },
  {
   "cell_type": "code",
   "execution_count": 6,
   "metadata": {},
   "outputs": [
    {
     "name": "stdout",
     "output_type": "stream",
     "text": [
      "88.794\n",
      "1775.8799999999999\n"
     ]
    }
   ],
   "source": [
    "import forex_python\n",
    "from forex_python.converter import CurrencyCodes, CurrencyRates\n",
    "test1 = CurrencyCodes()\n",
    "\n",
    "test2 = CurrencyRates()\n",
    "\n",
    "#fetching the Conversion rate\n",
    "rate = test2.get_rate('EUR', 'INR')\n",
    "print(rate)\n",
    "\n",
    "#performing conversion\n",
    "res = test2.convert('EUR', 'INR', 20)\n",
    "\n",
    "#display result\n",
    "print(res)"
   ]
  },
  {
   "cell_type": "markdown",
   "metadata": {},
   "source": [
    "### Q5 "
   ]
  },
  {
   "cell_type": "code",
   "execution_count": 30,
   "metadata": {},
   "outputs": [
    {
     "ename": "SyntaxError",
     "evalue": "invalid syntax (<ipython-input-30-a1f8e5d13d78>, line 13)",
     "output_type": "error",
     "traceback": [
      "\u001b[1;36m  File \u001b[1;32m\"<ipython-input-30-a1f8e5d13d78>\"\u001b[1;36m, line \u001b[1;32m13\u001b[0m\n\u001b[1;33m    print(lst.append(ele))\u001b[0m\n\u001b[1;37m        ^\u001b[0m\n\u001b[1;31mSyntaxError\u001b[0m\u001b[1;31m:\u001b[0m invalid syntax\n"
     ]
    }
   ],
   "source": [
    "# creating empty list\n",
    "lst = [] \n",
    "  \n",
    "# number of elemetns as input \n",
    "n = int(input(\"Enter number of elements : \")) \n",
    "  \n",
    "# iterating till the range \n",
    "for i in range(0, n): \n",
    "    #if (i % 2 == 0):\n",
    "        ele = int(input()\n",
    "                  #lst = lst.append(ele)\n",
    "        \n",
    "print(lst.append(ele)) \n",
    "     \n",
    "\n",
    "# # adding the element \n",
    "      \n",
    "            \n",
    "\n"
   ]
  },
  {
   "cell_type": "markdown",
   "metadata": {},
   "source": [
    "### Q6"
   ]
  },
  {
   "cell_type": "code",
   "execution_count": 2,
   "metadata": {},
   "outputs": [
    {
     "name": "stdout",
     "output_type": "stream",
     "text": [
      "1\n",
      "4\n",
      "9\n",
      "16\n",
      "25\n",
      "36\n",
      "49\n",
      "64\n",
      "81\n",
      "100\n"
     ]
    }
   ],
   "source": [
    "#without list comprehension\n",
    "\n",
    "for i in range(1,101):     \n",
    "    if int(i**0.5)==i**0.5: \n",
    "        print(i) \n"
   ]
  },
  {
   "cell_type": "code",
   "execution_count": 3,
   "metadata": {},
   "outputs": [
    {
     "data": {
      "text/plain": [
       "[1, 4, 9, 16, 25, 36, 49, 64, 81, 100]"
      ]
     },
     "execution_count": 3,
     "metadata": {},
     "output_type": "execute_result"
    }
   ],
   "source": [
    "#with List Comprehension\n",
    "[i for i in range(1,101) if int(i**0.5)==i**0.5]"
   ]
  },
  {
   "cell_type": "markdown",
   "metadata": {},
   "source": [
    "### Q7"
   ]
  },
  {
   "cell_type": "code",
   "execution_count": 4,
   "metadata": {},
   "outputs": [
    {
     "name": "stdout",
     "output_type": "stream",
     "text": [
      "Input a number 5\n",
      "{1: 1, 2: 4, 3: 9, 4: 16, 5: 25}\n"
     ]
    }
   ],
   "source": [
    "n=int(input(\"Input a number \"))\n",
    "d = dict()\n",
    "\n",
    "for x in range(1,n+1):\n",
    "    d[x]=x*x\n",
    "\n",
    "print(d)"
   ]
  },
  {
   "cell_type": "markdown",
   "metadata": {},
   "source": [
    "### Q8"
   ]
  },
  {
   "cell_type": "code",
   "execution_count": 17,
   "metadata": {},
   "outputs": [
    {
     "name": "stdout",
     "output_type": "stream",
     "text": [
      "Type in UP/DOWN/LEFT/RIGHT #step number: 5\n",
      "Type in UP/DOWN/LEFT/RIGHT #step number: 3\n",
      "Type in UP/DOWN/LEFT/RIGHT #step number: 3\n",
      "Type in UP/DOWN/LEFT/RIGHT #step number: 2\n",
      "Type in UP/DOWN/LEFT/RIGHT #step number: \n",
      "Distance: 0.0\n"
     ]
    }
   ],
   "source": [
    "import math\n",
    "\n",
    "x, y = 0, 0\n",
    "\n",
    "while True:\n",
    "    step = input(\"Type in UP/DOWN/LEFT/RIGHT #step number: \")\n",
    "\n",
    "    if step == \"\":\n",
    "        break\n",
    "\n",
    "    else:\n",
    "        step = step.split(\" \")\n",
    "\n",
    "        if step[0] == \"UP\":\n",
    "            y = y + int(step[1])\n",
    "        elif step[0] == \"DOWN\":\n",
    "            y = y - int(step[1])\n",
    "        elif step[0] == \"LEFT\":\n",
    "            x = x - int(step[1])\n",
    "        elif step[0] == \"RIGHT\":\n",
    "            x = x + int(step[1])\n",
    "\n",
    "c = math.sqrt(x**2 + y**2)\n",
    "\n",
    "print(\"Distance:\", c)"
   ]
  },
  {
   "cell_type": "markdown",
   "metadata": {},
   "source": [
    "### Q9"
   ]
  },
  {
   "cell_type": "code",
   "execution_count": 18,
   "metadata": {},
   "outputs": [
    {
     "name": "stdout",
     "output_type": "stream",
     "text": [
      "[ 2  5  8 11 14 17 20 23 26 29 32 35 38 41 44 47]\n"
     ]
    }
   ],
   "source": [
    "import numpy as np\n",
    "# Start = 2, Stop = 50, Step Size = 3\n",
    "arr = np.arange(2, 50, 3)\n",
    "print(arr)"
   ]
  },
  {
   "cell_type": "markdown",
   "metadata": {},
   "source": [
    "### Q10 "
   ]
  },
  {
   "cell_type": "code",
   "execution_count": 28,
   "metadata": {},
   "outputs": [
    {
     "name": "stdout",
     "output_type": "stream",
     "text": [
      "Enter number of elements : 5\n",
      "2\n",
      "3\n",
      "1\n",
      "7\n",
      "6\n",
      "[2, 3, 1, 7, 6]\n",
      "Enter number of elements : 5\n",
      "9\n",
      "3\n",
      "2\n",
      "4\n",
      "8\n",
      "[9, 3, 2, 4, 8]\n",
      "List:  [2, 3, 1, 7, 6]\n",
      "Array:  [2 3 1 7 6]\n",
      "List:  [9, 3, 2, 4, 8]\n",
      "Array:  [9 3 2 4 8]\n",
      "[1 2 2 3 3 4 6 7 8 9]\n"
     ]
    }
   ],
   "source": [
    "#creating two lists\n",
    "import numpy as np\n",
    "lst1 = [] \n",
    "  \n",
    "n = int(input(\"Enter number of elements : \"))  \n",
    "for i in range(0, n): \n",
    "    ele = int(input()) \n",
    "  \n",
    "    lst1.append(ele)   \n",
    "print(lst1) \n",
    "\n",
    "lst2 = [] \n",
    "  \n",
    "n = int(input(\"Enter number of elements : \"))  \n",
    "for i in range(0, n): \n",
    "    ele = int(input()) \n",
    "  \n",
    "    lst2.append(ele)   \n",
    "print(lst2) \n",
    "\n",
    "#converting list into arrays\n",
    "\n",
    "arr1 = numpy.array(lst1)\n",
    "print (\"List: \", lst1)\n",
    "\n",
    "print (\"Array: \", arr1)\n",
    "\n",
    "\n",
    "arr2 = numpy.array(lst2)\n",
    "print (\"List: \", lst2)\n",
    "\n",
    "print (\"Array: \", arr2)\n",
    "\n",
    "#concatenate and sorting arrays\n",
    "arr3 = np.concatenate((arr1, arr2), axis=None)\n",
    "arr3.sort(kind='mergesort')\n",
    "print(arr3)"
   ]
  },
  {
   "cell_type": "markdown",
   "metadata": {},
   "source": [
    "### Q11\n"
   ]
  },
  {
   "cell_type": "code",
   "execution_count": 29,
   "metadata": {},
   "outputs": [
    {
     "name": "stdout",
     "output_type": "stream",
     "text": [
      "No. of dimensions:  2\n",
      "Size of array:  6\n"
     ]
    }
   ],
   "source": [
    "#dimensions of a ndarray and its size\n",
    "import numpy as np\n",
    " \n",
    "# Creating array object\n",
    "arr = np.array( [[ 1, 2, 3],\n",
    "                 [ 4, 2, 5]] )\n",
    " \n",
    "# Printing array dimensions (axes)\n",
    "print(\"No. of dimensions: \", arr.ndim)\n",
    " \n",
    "# Printing size (total number of elements) of array\n",
    "print(\"Size of array: \", arr.size)"
   ]
  },
  {
   "cell_type": "markdown",
   "metadata": {},
   "source": [
    "### Q12 "
   ]
  },
  {
   "cell_type": "code",
   "execution_count": 31,
   "metadata": {},
   "outputs": [
    {
     "name": "stdout",
     "output_type": "stream",
     "text": [
      "1D Numpy array:\n",
      "[0 1 2 3 4 5 6 7 8 9]\n",
      "1D Numpy array:\n",
      "[[0 1 2 3 4]\n",
      " [5 6 7 8 9]]\n"
     ]
    }
   ],
   "source": [
    "# converting 1D array into 2D array\n",
    "\n",
    "import numpy as np\n",
    "\n",
    "# create 1D numpy array from a list\n",
    "arr = np.array([0, 1, 2, 3, 4, 5, 6, 7, 8, 9])\n",
    "print('1D Numpy array:')\n",
    "print(arr)\n",
    "\n",
    "# Convert 1D array to a 2D numpy array of 2 rows and 3 columns\n",
    "arr_2d = np.reshape(arr, (2, 5))\n",
    "print('2D Numpy array:')\n",
    "print(arr_2d)"
   ]
  },
  {
   "cell_type": "markdown",
   "metadata": {},
   "source": [
    "### Q13 "
   ]
  },
  {
   "cell_type": "code",
   "execution_count": 32,
   "metadata": {},
   "outputs": [
    {
     "name": "stdout",
     "output_type": "stream",
     "text": [
      "Horizontal Append: [1 2 3 4 5 6]\n"
     ]
    }
   ],
   "source": [
    "# Horitzontal Stack\n",
    "import numpy as np\n",
    "f = np.array([1,2,3])\n",
    "g = np.array([4,5,6])\n",
    "\n",
    "print('Horizontal Append:', np.hstack((f, g)))"
   ]
  },
  {
   "cell_type": "code",
   "execution_count": 33,
   "metadata": {},
   "outputs": [
    {
     "name": "stdout",
     "output_type": "stream",
     "text": [
      "Vertical Append: [[1 2 3]\n",
      " [4 5 6]]\n"
     ]
    }
   ],
   "source": [
    "# Vertical Stack\n",
    "import numpy as np\n",
    "f = np.array([1,2,3])\n",
    "g = np.array([4,5,6])\n",
    "\n",
    "print('Vertical Append:', np.vstack((f, g)))"
   ]
  },
  {
   "cell_type": "markdown",
   "metadata": {},
   "source": [
    "### Q14"
   ]
  },
  {
   "cell_type": "code",
   "execution_count": 34,
   "metadata": {},
   "outputs": [
    {
     "name": "stdout",
     "output_type": "stream",
     "text": [
      "No of unique items in the list are: 5\n"
     ]
    }
   ],
   "source": [
    "# importing Counter module \n",
    "from collections import Counter \n",
    "  \n",
    "input_list = [1, 2, 2, 5, 8, 4, 4, 8] \n",
    "  \n",
    "# creating a list with the keys \n",
    "items = Counter(input_list).keys() \n",
    "print(\"No of unique items in the list are:\", len(items)) "
   ]
  },
  {
   "cell_type": "code",
   "execution_count": 35,
   "metadata": {},
   "outputs": [
    {
     "name": "stdout",
     "output_type": "stream",
     "text": [
      "No of unique items in the list are: 5\n"
     ]
    }
   ],
   "source": [
    "input_list = [1, 2, 2, 5, 8, 4, 4, 8] \n",
    "  \n",
    "# converting our list to set \n",
    "new_set = set(input_list) \n",
    "print(\"No of unique items in the list are:\", len(new_set))"
   ]
  },
  {
   "cell_type": "code",
   "execution_count": null,
   "metadata": {},
   "outputs": [],
   "source": []
  }
 ],
 "metadata": {
  "kernelspec": {
   "display_name": "Python 3",
   "language": "python",
   "name": "python3"
  },
  "language_info": {
   "codemirror_mode": {
    "name": "ipython",
    "version": 3
   },
   "file_extension": ".py",
   "mimetype": "text/x-python",
   "name": "python",
   "nbconvert_exporter": "python",
   "pygments_lexer": "ipython3",
   "version": "3.6.10"
  }
 },
 "nbformat": 4,
 "nbformat_minor": 4
}
