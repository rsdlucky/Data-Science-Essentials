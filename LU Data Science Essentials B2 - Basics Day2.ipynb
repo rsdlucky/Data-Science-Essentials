{
 "cells": [
  {
   "cell_type": "markdown",
   "metadata": {},
   "source": [
    "# Day 2\n",
    "## Control Statements\n",
    ">for loop\n",
    "\n",
    ">while loop"
   ]
  },
  {
   "cell_type": "code",
   "execution_count": 5,
   "metadata": {},
   "outputs": [
    {
     "name": "stdout",
     "output_type": "stream",
     "text": [
      "10\n",
      "20\n",
      "30\n",
      "40\n",
      "50\n"
     ]
    }
   ],
   "source": [
    "# for loop\n",
    "\n",
    "l = [10, 20, 30, 40,50]\n",
    "\n",
    "for i in l:\n",
    "    print(i)"
   ]
  },
  {
   "cell_type": "code",
   "execution_count": 6,
   "metadata": {},
   "outputs": [
    {
     "name": "stdout",
     "output_type": "stream",
     "text": [
      "10 20 30 40 50 "
     ]
    }
   ],
   "source": [
    "#with end attribute\n",
    "\n",
    "l = [10, 20, 30, 40,50]\n",
    "\n",
    "for i in l:\n",
    "    print(i, end=\" \")"
   ]
  },
  {
   "cell_type": "code",
   "execution_count": 8,
   "metadata": {},
   "outputs": [
    {
     "name": "stdout",
     "output_type": "stream",
     "text": [
      "Hello LetsUpgrade"
     ]
    }
   ],
   "source": [
    "l = \"Hello LetsUpgrade\"\n",
    "\n",
    "for i in l:\n",
    "    print(i,end=\"\")"
   ]
  },
  {
   "cell_type": "code",
   "execution_count": 9,
   "metadata": {},
   "outputs": [
    {
     "name": "stdout",
     "output_type": "stream",
     "text": [
      "1 2 3 4 5 6 7 8 9 10 "
     ]
    }
   ],
   "source": [
    "# while loop to print numbers from 1 to 10\n",
    "\n",
    "i = 1  #initialization\n",
    "while i <= 10:   #condition\n",
    "    print(i, end=\" \")\n",
    "    i = i+1"
   ]
  },
  {
   "cell_type": "code",
   "execution_count": 23,
   "metadata": {},
   "outputs": [
    {
     "name": "stdout",
     "output_type": "stream",
     "text": [
      "0 | 1 | 2 | 3 | 4 | 5 | 6 | 7 | 8 | 9 | 10 | 11 | 12 | 13 | 14 | "
     ]
    }
   ],
   "source": [
    "# range() function\n",
    "\n",
    "for i in range(15):\n",
    "    print(i,end=' | ')"
   ]
  },
  {
   "cell_type": "code",
   "execution_count": 25,
   "metadata": {},
   "outputs": [
    {
     "name": "stdout",
     "output_type": "stream",
     "text": [
      "10 | 11 | 12 | 13 | 14 | "
     ]
    }
   ],
   "source": [
    "# range()\n",
    "\n",
    "for i in range(10,15):\n",
    "    print(i,end=' | ')"
   ]
  },
  {
   "cell_type": "code",
   "execution_count": 11,
   "metadata": {},
   "outputs": [
    {
     "name": "stdout",
     "output_type": "stream",
     "text": [
      "10 | 12 | 14 | 16 | 18 | "
     ]
    }
   ],
   "source": [
    "# range()\n",
    "\n",
    "for i in range(10,20,2):\n",
    "    print(i,end=' | ')"
   ]
  },
  {
   "cell_type": "code",
   "execution_count": 12,
   "metadata": {},
   "outputs": [
    {
     "name": "stdout",
     "output_type": "stream",
     "text": [
      "10 | 13 | 16 | 19 | "
     ]
    }
   ],
   "source": [
    "# range()\n",
    "\n",
    "for i in range(10,20,3):\n",
    "    print(i,end=' | ')"
   ]
  },
  {
   "cell_type": "code",
   "execution_count": 13,
   "metadata": {},
   "outputs": [
    {
     "name": "stdout",
     "output_type": "stream",
     "text": [
      "10 | 14 | 18 | "
     ]
    }
   ],
   "source": [
    "# range()\n",
    "\n",
    "for i in range(10,20,4):\n",
    "    print(i,end=' | ')"
   ]
  },
  {
   "cell_type": "markdown",
   "metadata": {},
   "source": [
    "# Functions\n",
    "\n",
    "> Built-in Functions: print(), type(), input(), int()\n",
    "\n",
    ">User Defined Functions"
   ]
  },
  {
   "cell_type": "code",
   "execution_count": 33,
   "metadata": {},
   "outputs": [
    {
     "name": "stdout",
     "output_type": "stream",
     "text": [
      "Hello Darshan\n",
      "Back from function\n"
     ]
    }
   ],
   "source": [
    "# User Defined Functions\n",
    "\n",
    "def greet():     #fn definition\n",
    "    print(\"Hello Darshan\")\n",
    "    \n",
    "greet()          #fn call\n",
    "print(\"Back from function\")"
   ]
  },
  {
   "cell_type": "code",
   "execution_count": 36,
   "metadata": {},
   "outputs": [
    {
     "name": "stdout",
     "output_type": "stream",
     "text": [
      "7\n",
      "25\n"
     ]
    }
   ],
   "source": [
    "# Create a function to add two numbers\n",
    "\n",
    "def addnos(no1, no2):\n",
    "    result = no1+no2\n",
    "    print(result)\n",
    "    \n",
    "addnos(2,5)\n",
    "addnos(12,13)"
   ]
  },
  {
   "cell_type": "code",
   "execution_count": 16,
   "metadata": {},
   "outputs": [
    {
     "name": "stdout",
     "output_type": "stream",
     "text": [
      "Enter 1st no:2\n",
      "Enter 2nd no:3\n"
     ]
    }
   ],
   "source": [
    "# Create a function to add two numbers\n",
    "\n",
    "def addnos(no1, no2):\n",
    "    result = no1+no2\n",
    "    print(result)\n",
    "    \n",
    "a = int(input(\"Enter 1st no:\"))\n",
    "b = int(input(\"Enter 2nd no:\"))"
   ]
  },
  {
   "cell_type": "code",
   "execution_count": 19,
   "metadata": {},
   "outputs": [
    {
     "name": "stdout",
     "output_type": "stream",
     "text": [
      "Enter 1st no:20\n",
      "Enter 2nd no:30\n",
      "50\n"
     ]
    }
   ],
   "source": [
    "# Create a function to add two numbers\n",
    "\n",
    "def addnos(no1, no2):\n",
    "    result = no1+no2\n",
    "    print(result)\n",
    "    \n",
    "addnos(int(input(\"Enter 1st no:\")),int(input(\"Enter 2nd no:\")))"
   ]
  },
  {
   "cell_type": "markdown",
   "metadata": {},
   "source": [
    "# String"
   ]
  },
  {
   "cell_type": "code",
   "execution_count": 23,
   "metadata": {},
   "outputs": [
    {
     "name": "stdout",
     "output_type": "stream",
     "text": [
      "Paramjit\n",
      "<class 'str'>\n",
      "P\n",
      "j\n",
      "t\n",
      "r\n",
      "True\n",
      "aram\n",
      "Param\n",
      "aramjit\n"
     ]
    }
   ],
   "source": [
    "s = \"Paramjit\"\n",
    "print(s)\n",
    "print(type(s))\n",
    "print(s[0]) # for indexing, always use []\n",
    "print(s[5])\n",
    "print(s[-1])\n",
    "print(s[-6])\n",
    "print(s[-7]==s[1])\n",
    "# Slicing s[start_index, end_index] - It will fetch records from \n",
    "# start_index to (end_index - 1)\n",
    "print(s[1:5]) # 1 to (5-1)\n",
    "print(s[:5]) # 0 to (5-1)\n",
    "print(s[1:]) # 1 to end"
   ]
  },
  {
   "cell_type": "code",
   "execution_count": 26,
   "metadata": {},
   "outputs": [
    {
     "name": "stdout",
     "output_type": "stream",
     "text": [
      "An apple a day keeps the doctor away\n",
      "paramjit\n",
      "PARAMJIT\n",
      "2\n",
      "4\n",
      "2\n",
      "  Lets Upgrade  \n",
      "Lets Upgrade\n",
      "Lets Upgrade  \n",
      "  Lets Upgrade\n",
      "Paramjit\n",
      "Pxrxmjit\n",
      "Paramjit\n",
      "['P', 'a', 'r', 'a', 'm', 'j', 'i', 't']\n",
      "an Apple a Day keePS the doCTor AwaY\n",
      "AN aPPLE A dAY KEEps THE DOctOR aWAy\n"
     ]
    }
   ],
   "source": [
    "# String Functions\n",
    "\n",
    "s = \"Paramjit\"\n",
    "t = \"an Apple a Day keePS the doCTor AwaY\"\n",
    "n = \"  Lets Upgrade  \"\n",
    "print(t.capitalize())\n",
    "print(s.lower())\n",
    "print(s.upper())\n",
    "print(s.count('a'))\n",
    "print(t.count('a'))\n",
    "print(t.count('A'))\n",
    "print(n)\n",
    "print(n.strip())\n",
    "print(n.lstrip())\n",
    "print(n.rstrip())\n",
    "print(s)\n",
    "print(s.replace('a','x'))\n",
    "print(s)\n",
    "print(list(s))\n",
    "print(t)\n",
    "print(t.swapcase())"
   ]
  },
  {
   "cell_type": "markdown",
   "metadata": {},
   "source": [
    "# List\n",
    "\n",
    "It is a collection of similar or dissimilar values.\n",
    "\n",
    "It is stored in []\n",
    "\n",
    "It is mutable i.e. Flexible"
   ]
  },
  {
   "cell_type": "code",
   "execution_count": 29,
   "metadata": {},
   "outputs": [
    {
     "name": "stdout",
     "output_type": "stream",
     "text": [
      "['P', 'a', 'r', 'm', 'j', 'i', 't']\n",
      "<class 'list'>\n",
      "P\n",
      "i\n",
      "t\n",
      "a\n",
      "True\n",
      "['a', 'r', 'm', 'j']\n",
      "['P', 'a', 'r', 'm', 'j']\n",
      "['a', 'r', 'm', 'j', 'i', 't']\n"
     ]
    }
   ],
   "source": [
    "s = ['P', 'a', 'r', 'm', 'j', 'i', 't']\n",
    "print(s)\n",
    "print(type(s))\n",
    "print(s[0]) # for indexing, always use []\n",
    "print(s[5])\n",
    "print(s[-1])\n",
    "print(s[-6])\n",
    "print(s[-6]==s[1])\n",
    "# Slicing s[start_index, end_index] - It will fetch records from \n",
    "# start_index to (end_index - 1)\n",
    "print(s[1:5]) # 1 to (5-1)\n",
    "print(s[:5]) # 0 to (5-1)\n",
    "print(s[1:]) # 1 to end"
   ]
  },
  {
   "cell_type": "code",
   "execution_count": 30,
   "metadata": {},
   "outputs": [
    {
     "name": "stdout",
     "output_type": "stream",
     "text": [
      "['P', 58, 'r', (2+3j), True, 45, 't']\n",
      "<class 'list'>\n",
      "P\n",
      "45\n",
      "t\n",
      "58\n",
      "True\n",
      "[58, 'r', (2+3j), True]\n",
      "['P', 58, 'r', (2+3j), True]\n",
      "[58, 'r', (2+3j), True, 45, 't']\n"
     ]
    }
   ],
   "source": [
    "s = ['P', 58, 'r', 2+3j, True, 45, 't']\n",
    "print(s)\n",
    "print(type(s))\n",
    "print(s[0]) # for indexing, always use []\n",
    "print(s[5])\n",
    "print(s[-1])\n",
    "print(s[-6])\n",
    "print(s[-6]==s[1])\n",
    "# Slicing s[start_index, end_index] - It will fetch records from \n",
    "# start_index to (end_index - 1)\n",
    "print(s[1:5]) # 1 to (5-1)\n",
    "print(s[:5]) # 0 to (5-1)\n",
    "print(s[1:]) # 1 to end"
   ]
  },
  {
   "cell_type": "code",
   "execution_count": 31,
   "metadata": {},
   "outputs": [
    {
     "name": "stdout",
     "output_type": "stream",
     "text": [
      "[10, 20, 30, 40, 50]\n",
      "10\n",
      "['Paramjit', 20, 30, 40, 50]\n",
      "Paramjit\n"
     ]
    }
   ],
   "source": [
    "# List is mutable i.e. Flexible\n",
    "\n",
    "l = [10,20,30,40,50]\n",
    "print(l)\n",
    "print(l[0])\n",
    "l[0] = \"Paramjit\"\n",
    "print(l)\n",
    "print(l[0])"
   ]
  },
  {
   "cell_type": "markdown",
   "metadata": {},
   "source": [
    "# Tuple\n",
    "\n",
    "It is a collection of dissimilar values.\n",
    "\n",
    "It is stored in ()\n",
    "\n",
    "It is Immutable i.e. Fixed"
   ]
  },
  {
   "cell_type": "code",
   "execution_count": 32,
   "metadata": {},
   "outputs": [
    {
     "name": "stdout",
     "output_type": "stream",
     "text": [
      "('P', 'a', 'r', 'a', 'm', 'j', 'i', 't')\n",
      "<class 'tuple'>\n",
      "P\n",
      "j\n",
      "t\n",
      "r\n",
      "False\n",
      "('a', 'r', 'a', 'm')\n",
      "('P', 'a', 'r', 'a', 'm')\n",
      "('a', 'r', 'a', 'm', 'j', 'i', 't')\n"
     ]
    }
   ],
   "source": [
    "s = ('P', 'a', 'r', 'a', 'm', 'j', 'i','t')\n",
    "print(s)\n",
    "print(type(s))\n",
    "print(s[0]) # for indexing, always use []\n",
    "print(s[5])\n",
    "print(s[-1])\n",
    "print(s[-6])\n",
    "print(s[-6]==s[1])\n",
    "# Slicing s[start_index, end_index] - It will fetch records from \n",
    "# start_index to (end_index - 1)\n",
    "print(s[1:5]) # 1 to (5-1)\n",
    "print(s[:5]) # 0 to (5-1)\n",
    "print(s[1:]) # 1 to end"
   ]
  },
  {
   "cell_type": "code",
   "execution_count": 34,
   "metadata": {},
   "outputs": [
    {
     "name": "stdout",
     "output_type": "stream",
     "text": [
      "('P', 58, 'LU', (2+3j), True, 45, 'T')\n",
      "<class 'tuple'>\n",
      "P\n",
      "45\n",
      "T\n",
      "58\n",
      "True\n",
      "(58, 'LU', (2+3j), True)\n",
      "('P', 58, 'LU', (2+3j), True)\n",
      "(58, 'LU', (2+3j), True, 45, 'T')\n"
     ]
    }
   ],
   "source": [
    "s = ('P', 58, 'LU', 2+3j, True, 45, 'T')\n",
    "print(s)\n",
    "print(type(s))\n",
    "print(s[0]) # for indexing, always use []\n",
    "print(s[5])\n",
    "print(s[-1])\n",
    "print(s[-6])\n",
    "print(s[-6]==s[1])\n",
    "# Slicing s[start_index, end_index] - It will fetch records from \n",
    "# start_index to (end_index - 1)\n",
    "print(s[1:5]) # 1 to (5-1)\n",
    "print(s[:5]) # 0 to (5-1)\n",
    "print(s[1:]) # 1 to end"
   ]
  },
  {
   "cell_type": "code",
   "execution_count": 35,
   "metadata": {},
   "outputs": [
    {
     "name": "stdout",
     "output_type": "stream",
     "text": [
      "(10, 20, 30, 40, 50)\n",
      "10\n"
     ]
    },
    {
     "ename": "TypeError",
     "evalue": "'tuple' object does not support item assignment",
     "output_type": "error",
     "traceback": [
      "\u001b[1;31m---------------------------------------------------------------------------\u001b[0m",
      "\u001b[1;31mTypeError\u001b[0m                                 Traceback (most recent call last)",
      "\u001b[1;32m<ipython-input-35-3bd02256955f>\u001b[0m in \u001b[0;36m<module>\u001b[1;34m\u001b[0m\n\u001b[0;32m      4\u001b[0m \u001b[0mprint\u001b[0m\u001b[1;33m(\u001b[0m\u001b[0ml\u001b[0m\u001b[1;33m)\u001b[0m\u001b[1;33m\u001b[0m\u001b[1;33m\u001b[0m\u001b[0m\n\u001b[0;32m      5\u001b[0m \u001b[0mprint\u001b[0m\u001b[1;33m(\u001b[0m\u001b[0ml\u001b[0m\u001b[1;33m[\u001b[0m\u001b[1;36m0\u001b[0m\u001b[1;33m]\u001b[0m\u001b[1;33m)\u001b[0m\u001b[1;33m\u001b[0m\u001b[1;33m\u001b[0m\u001b[0m\n\u001b[1;32m----> 6\u001b[1;33m \u001b[0ml\u001b[0m\u001b[1;33m[\u001b[0m\u001b[1;36m0\u001b[0m\u001b[1;33m]\u001b[0m \u001b[1;33m=\u001b[0m \u001b[1;34m\"Paramjit\"\u001b[0m\u001b[1;33m\u001b[0m\u001b[1;33m\u001b[0m\u001b[0m\n\u001b[0m\u001b[0;32m      7\u001b[0m \u001b[0mprint\u001b[0m\u001b[1;33m(\u001b[0m\u001b[0ml\u001b[0m\u001b[1;33m)\u001b[0m\u001b[1;33m\u001b[0m\u001b[1;33m\u001b[0m\u001b[0m\n\u001b[0;32m      8\u001b[0m \u001b[0mprint\u001b[0m\u001b[1;33m(\u001b[0m\u001b[0ml\u001b[0m\u001b[1;33m[\u001b[0m\u001b[1;36m0\u001b[0m\u001b[1;33m]\u001b[0m\u001b[1;33m)\u001b[0m\u001b[1;33m\u001b[0m\u001b[1;33m\u001b[0m\u001b[0m\n",
      "\u001b[1;31mTypeError\u001b[0m: 'tuple' object does not support item assignment"
     ]
    }
   ],
   "source": [
    "# Tuple is immutable i.e. Fixed\n",
    "\n",
    "l = (10,20,30,40,50)\n",
    "print(l)\n",
    "print(l[0])\n",
    "l[0] = \"Paramjit\"\n",
    "print(l)\n",
    "print(l[0])"
   ]
  },
  {
   "cell_type": "code",
   "execution_count": null,
   "metadata": {},
   "outputs": [],
   "source": []
  }
 ],
 "metadata": {
  "kernelspec": {
   "display_name": "Python 3",
   "language": "python",
   "name": "python3"
  },
  "language_info": {
   "codemirror_mode": {
    "name": "ipython",
    "version": 3
   },
   "file_extension": ".py",
   "mimetype": "text/x-python",
   "name": "python",
   "nbconvert_exporter": "python",
   "pygments_lexer": "ipython3",
   "version": "3.6.10"
  }
 },
 "nbformat": 4,
 "nbformat_minor": 4
}
