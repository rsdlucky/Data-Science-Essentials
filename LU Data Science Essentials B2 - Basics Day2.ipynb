{
 "cells": [
  {
   "cell_type": "markdown",
   "metadata": {},
   "source": [
    "![Image of LetsUpgrade](https://media-exp1.licdn.com/dms/image/C511BAQHd9Z1TO0t-0A/company-background_10000/0?e=2159024400&v=beta&t=t5kx7AY2sqMmoMcv_lnr6cDWkd65C1l01I-DXH7iNs8)"
   ]
  },
  {
   "cell_type": "markdown",
   "metadata": {},
   "source": [
    "# Day 1\n",
    "\n",
    "# Connect me@\n",
    "\n",
    "# https://www.linkedin.com/in/dr-darshan-ingle-corporate-trainer/"
   ]
  },
  {
   "cell_type": "code",
   "execution_count": 1,
   "metadata": {},
   "outputs": [
    {
     "data": {
      "text/plain": [
       "2"
      ]
     },
     "execution_count": 1,
     "metadata": {},
     "output_type": "execute_result"
    }
   ],
   "source": [
    "1+1"
   ]
  },
  {
   "cell_type": "code",
   "execution_count": 2,
   "metadata": {},
   "outputs": [
    {
     "data": {
      "text/plain": [
       "16"
      ]
     },
     "execution_count": 2,
     "metadata": {},
     "output_type": "execute_result"
    }
   ],
   "source": [
    "2*8"
   ]
  },
  {
   "cell_type": "code",
   "execution_count": 3,
   "metadata": {},
   "outputs": [
    {
     "data": {
      "text/plain": [
       "8"
      ]
     },
     "execution_count": 3,
     "metadata": {},
     "output_type": "execute_result"
    }
   ],
   "source": [
    "2**3 "
   ]
  },
  {
   "cell_type": "code",
   "execution_count": 5,
   "metadata": {},
   "outputs": [
    {
     "data": {
      "text/plain": [
       "0.2857142857142857"
      ]
     },
     "execution_count": 5,
     "metadata": {},
     "output_type": "execute_result"
    }
   ],
   "source": [
    "2/7"
   ]
  },
  {
   "cell_type": "code",
   "execution_count": 6,
   "metadata": {},
   "outputs": [
    {
     "data": {
      "text/plain": [
       "10"
      ]
     },
     "execution_count": 6,
     "metadata": {},
     "output_type": "execute_result"
    }
   ],
   "source": [
    "5+5"
   ]
  },
  {
   "cell_type": "raw",
   "metadata": {},
   "source": [
    "Hey All\n",
    "\n",
    "Welcome to the LU DS Essentials Batch 2\n",
    "\n",
    "This is a Notepad file\n",
    "\n",
    "There are many ways top execute Python programs. Some of them are:\n",
    "\n",
    "1. Python IDLE\n",
    "\n",
    "2. Jupyter Notebook\n",
    "\n",
    "3. Spyder"
   ]
  },
  {
   "cell_type": "markdown",
   "metadata": {},
   "source": [
    "# Hey All\n",
    "\n",
    "## Welcome to the LU DS Essentials Batch 2\n",
    "\n",
    "This is a __Notepad file__\n",
    "\n",
    "There are many ways top execute Python programs. Some of them are:\n",
    "\n",
    ">1. Python IDLE\n",
    "\n",
    ">2. Jupyter Notebook\n",
    "\n",
    ">3. Spyder\n",
    "\n",
    "https://medium.com/@ingeh/markdown-for-jupyter-notebooks-cheatsheet-386c05aeebed"
   ]
  },
  {
   "cell_type": "code",
   "execution_count": 7,
   "metadata": {},
   "outputs": [
    {
     "name": "stdout",
     "output_type": "stream",
     "text": [
      "Hi Learners\n"
     ]
    }
   ],
   "source": [
    "print(\"Hi Learners\")"
   ]
  },
  {
   "cell_type": "code",
   "execution_count": 11,
   "metadata": {},
   "outputs": [
    {
     "name": "stdout",
     "output_type": "stream",
     "text": [
      "LU \n",
      "Learners\n",
      "My name is:\tDr. Darshan Ingle\n"
     ]
    }
   ],
   "source": [
    "print(\"LU \\nLearners\")\n",
    "print(\"My name is:\\tDr. Darshan Ingle\")"
   ]
  },
  {
   "cell_type": "code",
   "execution_count": 12,
   "metadata": {},
   "outputs": [
    {
     "name": "stdout",
     "output_type": "stream",
     "text": [
      "LU \n",
      "Learners\n"
     ]
    }
   ],
   "source": [
    "print('LU \\nLearners')"
   ]
  },
  {
   "cell_type": "code",
   "execution_count": 34,
   "metadata": {},
   "outputs": [
    {
     "name": "stdout",
     "output_type": "stream",
     "text": [
      "c\n",
      "3\n",
      "Addition= 3\n",
      "Addition of a= 1 and b= 2 is c= 3 .\n"
     ]
    }
   ],
   "source": [
    "# Program to perform addition of two nos\n",
    "\n",
    "a = 1\n",
    "b = 2\n",
    "c = a+b\n",
    "print(\"c\")\n",
    "print(c)\n",
    "print(\"Addition=\",c)\n",
    "print(\"Addition of a=\",a,\"and b=\",b,\"is c=\",c,\".\")"
   ]
  },
  {
   "cell_type": "code",
   "execution_count": 37,
   "metadata": {},
   "outputs": [
    {
     "name": "stdout",
     "output_type": "stream",
     "text": [
      "10\n",
      "<class 'int'>\n"
     ]
    }
   ],
   "source": [
    "a = 10\n",
    "print(a)\n",
    "print( type(a) )"
   ]
  },
  {
   "cell_type": "code",
   "execution_count": 38,
   "metadata": {},
   "outputs": [
    {
     "name": "stdout",
     "output_type": "stream",
     "text": [
      "10.5\n",
      "<class 'float'>\n"
     ]
    }
   ],
   "source": [
    "a = 10.5\n",
    "print(a)\n",
    "print( type(a) )"
   ]
  },
  {
   "cell_type": "code",
   "execution_count": 39,
   "metadata": {},
   "outputs": [
    {
     "data": {
      "text/plain": [
       "float"
      ]
     },
     "execution_count": 39,
     "metadata": {},
     "output_type": "execute_result"
    }
   ],
   "source": [
    "type(10.5)"
   ]
  },
  {
   "cell_type": "code",
   "execution_count": 40,
   "metadata": {},
   "outputs": [
    {
     "data": {
      "text/plain": [
       "str"
      ]
     },
     "execution_count": 40,
     "metadata": {},
     "output_type": "execute_result"
    }
   ],
   "source": [
    "type(\"Darshan\")"
   ]
  },
  {
   "cell_type": "code",
   "execution_count": 41,
   "metadata": {},
   "outputs": [
    {
     "data": {
      "text/plain": [
       "bool"
      ]
     },
     "execution_count": 41,
     "metadata": {},
     "output_type": "execute_result"
    }
   ],
   "source": [
    "type(True)"
   ]
  },
  {
   "cell_type": "code",
   "execution_count": 42,
   "metadata": {},
   "outputs": [
    {
     "data": {
      "text/plain": [
       "bool"
      ]
     },
     "execution_count": 42,
     "metadata": {},
     "output_type": "execute_result"
    }
   ],
   "source": [
    "type(False)"
   ]
  },
  {
   "cell_type": "code",
   "execution_count": 43,
   "metadata": {},
   "outputs": [
    {
     "data": {
      "text/plain": [
       "complex"
      ]
     },
     "execution_count": 43,
     "metadata": {},
     "output_type": "execute_result"
    }
   ],
   "source": [
    "type(2+3j)"
   ]
  },
  {
   "cell_type": "code",
   "execution_count": 44,
   "metadata": {},
   "outputs": [
    {
     "name": "stdout",
     "output_type": "stream",
     "text": [
      "(5-5j)\n"
     ]
    }
   ],
   "source": [
    "a = 2+3j\n",
    "b = 3-8j\n",
    "print(a+b)"
   ]
  },
  {
   "cell_type": "code",
   "execution_count": 48,
   "metadata": {},
   "outputs": [
    {
     "data": {
      "text/plain": [
       "['False',\n",
       " 'None',\n",
       " 'True',\n",
       " 'and',\n",
       " 'as',\n",
       " 'assert',\n",
       " 'async',\n",
       " 'await',\n",
       " 'break',\n",
       " 'class',\n",
       " 'continue',\n",
       " 'def',\n",
       " 'del',\n",
       " 'elif',\n",
       " 'else',\n",
       " 'except',\n",
       " 'finally',\n",
       " 'for',\n",
       " 'from',\n",
       " 'global',\n",
       " 'if',\n",
       " 'import',\n",
       " 'in',\n",
       " 'is',\n",
       " 'lambda',\n",
       " 'nonlocal',\n",
       " 'not',\n",
       " 'or',\n",
       " 'pass',\n",
       " 'raise',\n",
       " 'return',\n",
       " 'try',\n",
       " 'while',\n",
       " 'with',\n",
       " 'yield']"
      ]
     },
     "execution_count": 48,
     "metadata": {},
     "output_type": "execute_result"
    }
   ],
   "source": [
    "import keyword\n",
    "keyword.kwlist"
   ]
  },
  {
   "cell_type": "code",
   "execution_count": 49,
   "metadata": {},
   "outputs": [
    {
     "data": {
      "text/plain": [
       "35"
      ]
     },
     "execution_count": 49,
     "metadata": {},
     "output_type": "execute_result"
    }
   ],
   "source": [
    "len(keyword.kwlist)"
   ]
  },
  {
   "cell_type": "markdown",
   "metadata": {},
   "source": [
    "# Operators"
   ]
  },
  {
   "cell_type": "raw",
   "metadata": {},
   "source": [
    "Arithhmetic\n",
    "\n",
    "+\n",
    "-\n",
    "*\n",
    "/\n",
    "// Floor Division\n",
    "% Modulo\n",
    "** Exponentiation"
   ]
  },
  {
   "cell_type": "code",
   "execution_count": 54,
   "metadata": {},
   "outputs": [
    {
     "name": "stdout",
     "output_type": "stream",
     "text": [
      "5\n",
      "-1\n",
      "6\n",
      "6.666666666666667\n",
      "2\n",
      "6\n",
      "8\n"
     ]
    }
   ],
   "source": [
    "print(2+3)\n",
    "print(2-3)\n",
    "print(2*3)\n",
    "print(20/3)\n",
    "print(20%3)\n",
    "print(20//3)\n",
    "print(2**3)"
   ]
  },
  {
   "cell_type": "markdown",
   "metadata": {},
   "source": [
    "# Relational"
   ]
  },
  {
   "cell_type": "raw",
   "metadata": {},
   "source": [
    "<\n",
    "<=\n",
    ">\n",
    ">=\n",
    "==\n",
    "!="
   ]
  },
  {
   "cell_type": "code",
   "execution_count": 58,
   "metadata": {},
   "outputs": [
    {
     "name": "stdout",
     "output_type": "stream",
     "text": [
      "True\n",
      "False\n",
      "False\n",
      "True\n",
      "False\n"
     ]
    }
   ],
   "source": [
    "print(2<3)\n",
    "print(2>3)\n",
    "print(2==3)\n",
    "print(3==3)\n",
    "print(3!=3)"
   ]
  },
  {
   "cell_type": "code",
   "execution_count": 59,
   "metadata": {},
   "outputs": [
    {
     "name": "stdout",
     "output_type": "stream",
     "text": [
      "True\n"
     ]
    }
   ],
   "source": [
    "a = 2<3\n",
    "print(a)"
   ]
  },
  {
   "cell_type": "markdown",
   "metadata": {},
   "source": [
    "# Membership Operator\n",
    "\n",
    "in\n",
    "\n",
    "not in"
   ]
  },
  {
   "cell_type": "code",
   "execution_count": 60,
   "metadata": {},
   "outputs": [
    {
     "data": {
      "text/plain": [
       "True"
      ]
     },
     "execution_count": 60,
     "metadata": {},
     "output_type": "execute_result"
    }
   ],
   "source": [
    "'a' in \"Darshan\""
   ]
  },
  {
   "cell_type": "code",
   "execution_count": 61,
   "metadata": {},
   "outputs": [
    {
     "data": {
      "text/plain": [
       "False"
      ]
     },
     "execution_count": 61,
     "metadata": {},
     "output_type": "execute_result"
    }
   ],
   "source": [
    "'d' in \"Darshan\""
   ]
  },
  {
   "cell_type": "code",
   "execution_count": 62,
   "metadata": {},
   "outputs": [
    {
     "data": {
      "text/plain": [
       "False"
      ]
     },
     "execution_count": 62,
     "metadata": {},
     "output_type": "execute_result"
    }
   ],
   "source": [
    "'a' not in \"Darshan\""
   ]
  },
  {
   "cell_type": "code",
   "execution_count": 66,
   "metadata": {},
   "outputs": [
    {
     "name": "stdout",
     "output_type": "stream",
     "text": [
      "12\n",
      "140703138719872\n",
      "140703138719904\n"
     ]
    }
   ],
   "source": [
    "# Identity: gives the address of the variable\n",
    "\n",
    "a= 12\n",
    "print(a)\n",
    "print(id(a))\n",
    "b = 13\n",
    "print(id(b))"
   ]
  },
  {
   "cell_type": "code",
   "execution_count": 69,
   "metadata": {},
   "outputs": [
    {
     "name": "stdout",
     "output_type": "stream",
     "text": [
      "140703138719648\n",
      "140703138719648\n",
      "140703138719808\n",
      "140703138719648\n"
     ]
    }
   ],
   "source": [
    "x = 5\n",
    "print(id(x))\n",
    "y = 5\n",
    "print(id(y))\n",
    "y = 10\n",
    "print(id(y))\n",
    "print(id(x))"
   ]
  },
  {
   "cell_type": "raw",
   "metadata": {},
   "source": [
    "Precedence:\n",
    "\n",
    "PEMDAS\n",
    "\n",
    "Parenthesis\n",
    "Exponentiation\n",
    "M D Mult Div\n",
    "A S Add Sub"
   ]
  },
  {
   "cell_type": "code",
   "execution_count": 70,
   "metadata": {},
   "outputs": [
    {
     "data": {
      "text/plain": [
       "2.6"
      ]
     },
     "execution_count": 70,
     "metadata": {},
     "output_type": "execute_result"
    }
   ],
   "source": [
    "1+2**3/5"
   ]
  },
  {
   "cell_type": "code",
   "execution_count": 71,
   "metadata": {},
   "outputs": [
    {
     "data": {
      "text/plain": [
       "-683.6666666666666"
      ]
     },
     "execution_count": 71,
     "metadata": {},
     "output_type": "execute_result"
    }
   ],
   "source": [
    "1+2**3/5/6*5-2*7**3"
   ]
  },
  {
   "cell_type": "markdown",
   "metadata": {},
   "source": [
    "# Conditional Statements\n",
    "\n",
    "if\n",
    "\n",
    "elif\n",
    "\n",
    "else"
   ]
  },
  {
   "cell_type": "code",
   "execution_count": 73,
   "metadata": {},
   "outputs": [
    {
     "data": {
      "text/plain": [
       "1"
      ]
     },
     "execution_count": 73,
     "metadata": {},
     "output_type": "execute_result"
    }
   ],
   "source": [
    "%23*5"
   ]
  },
  {
   "cell_type": "code",
   "execution_count": 77,
   "metadata": {},
   "outputs": [
    {
     "name": "stdout",
     "output_type": "stream",
     "text": [
      "Condition statisfied\n",
      "I am happy to be executed\n",
      "I will always be printed\n"
     ]
    }
   ],
   "source": [
    "x = 5\n",
    "if x==5:\n",
    "    print(\"Condition statisfied\")\n",
    "    print(\"I am happy to be executed\")\n",
    "print(\"I will always be printed\")"
   ]
  },
  {
   "cell_type": "code",
   "execution_count": 80,
   "metadata": {},
   "outputs": [
    {
     "name": "stdout",
     "output_type": "stream",
     "text": [
      "x>=12\n",
      "I will always be printed\n"
     ]
    }
   ],
   "source": [
    "x = 15\n",
    "if x<12:\n",
    "    print(\"x<12\")\n",
    "else:\n",
    "    print(\"x>=12\")\n",
    "print(\"I will always be printed\")"
   ]
  },
  {
   "cell_type": "code",
   "execution_count": 81,
   "metadata": {},
   "outputs": [
    {
     "name": "stdout",
     "output_type": "stream",
     "text": [
      "x=35\n"
     ]
    }
   ],
   "source": [
    "x = 35\n",
    "if x>35:\n",
    "    print(\"x>35\")\n",
    "elif x<35:\n",
    "    print(\"x<35\")\n",
    "else:\n",
    "    print(\"x=35\")"
   ]
  },
  {
   "cell_type": "markdown",
   "metadata": {},
   "source": [
    "# Input in Python\n",
    "\n",
    "input()"
   ]
  },
  {
   "cell_type": "code",
   "execution_count": 90,
   "metadata": {},
   "outputs": [
    {
     "name": "stdout",
     "output_type": "stream",
     "text": [
      "2+33j\n",
      "Entered data is: 2+33j\n",
      "type(x): <class 'str'>\n"
     ]
    }
   ],
   "source": [
    "x = input()\n",
    "print(\"Entered data is:\",x)\n",
    "print(\"type(x):\",type(x))"
   ]
  },
  {
   "cell_type": "code",
   "execution_count": 94,
   "metadata": {},
   "outputs": [
    {
     "name": "stdout",
     "output_type": "stream",
     "text": [
      "10\n",
      "60\n",
      "Addition= 70\n"
     ]
    }
   ],
   "source": [
    "a = input()\n",
    "a = int(a)\n",
    "b = input()\n",
    "b = int(b)\n",
    "print(\"Addition=\",a+b)"
   ]
  },
  {
   "cell_type": "code",
   "execution_count": 96,
   "metadata": {},
   "outputs": [
    {
     "name": "stdout",
     "output_type": "stream",
     "text": [
      "Enter 1st no:60\n",
      "Enter 2nd no:10\n",
      "Addition= 70\n"
     ]
    }
   ],
   "source": [
    "a = int(input(\"Enter 1st no:\"))\n",
    "b = int(input(\"Enter 2nd no:\"))\n",
    "print(\"Addition=\",a+b)"
   ]
  },
  {
   "cell_type": "code",
   "execution_count": 100,
   "metadata": {},
   "outputs": [
    {
     "name": "stdout",
     "output_type": "stream",
     "text": [
      "<class 'complex'>\n"
     ]
    }
   ],
   "source": [
    "# Python is a Dynamic typed language\n",
    "\n",
    "a = 2+3j\n",
    "print(type(a))"
   ]
  },
  {
   "cell_type": "code",
   "execution_count": 101,
   "metadata": {},
   "outputs": [
    {
     "data": {
      "text/plain": [
       "6"
      ]
     },
     "execution_count": 101,
     "metadata": {},
     "output_type": "execute_result"
    }
   ],
   "source": [
    "1+2+3"
   ]
  },
  {
   "cell_type": "markdown",
   "metadata": {},
   "source": [
    "# Day 2"
   ]
  },
  {
   "cell_type": "code",
   "execution_count": 6,
   "metadata": {},
   "outputs": [
    {
     "name": "stdout",
     "output_type": "stream",
     "text": [
      "[10, 1.45, 'Darshan', (2+3j), True]\n",
      "<class 'list'>\n",
      "Darshan\n"
     ]
    }
   ],
   "source": [
    "l = [ 10, 1.45, \"Darshan\", 2+3j, True ]\n",
    "print(l)\n",
    "print(type(l))\n",
    "print(l[2])"
   ]
  },
  {
   "cell_type": "markdown",
   "metadata": {},
   "source": [
    "# Loops\n",
    "\n",
    ">for loop\n",
    "\n",
    ">while loop"
   ]
  },
  {
   "cell_type": "code",
   "execution_count": 16,
   "metadata": {},
   "outputs": [
    {
     "name": "stdout",
     "output_type": "stream",
     "text": [
      "10 20 30 40 50 "
     ]
    }
   ],
   "source": [
    "# for loop\n",
    "\n",
    "l = [10, 20, 30, 40,50]\n",
    "\n",
    "for i in l:\n",
    "    print(i,end=\" \")"
   ]
  },
  {
   "cell_type": "code",
   "execution_count": 18,
   "metadata": {},
   "outputs": [
    {
     "name": "stdout",
     "output_type": "stream",
     "text": [
      "Hello LetsUpgrade"
     ]
    }
   ],
   "source": [
    "# for loop\n",
    "\n",
    "l = \"Hello LetsUpgrade\"\n",
    "\n",
    "for i in l:\n",
    "    print(i,end=\"\")"
   ]
  },
  {
   "cell_type": "code",
   "execution_count": 20,
   "metadata": {},
   "outputs": [
    {
     "name": "stdout",
     "output_type": "stream",
     "text": [
      "1 2 3 4 5 "
     ]
    }
   ],
   "source": [
    "# while loop\n",
    "\n",
    "i = 1 # initialization\n",
    "while i <= 5:\n",
    "    print(i, end=\" \")\n",
    "    i = i+1"
   ]
  },
  {
   "cell_type": "code",
   "execution_count": 23,
   "metadata": {},
   "outputs": [
    {
     "name": "stdout",
     "output_type": "stream",
     "text": [
      "0 | 1 | 2 | 3 | 4 | 5 | 6 | 7 | 8 | 9 | 10 | 11 | 12 | 13 | 14 | "
     ]
    }
   ],
   "source": [
    "# range()\n",
    "\n",
    "for i in range(15):\n",
    "    print(i,end=' | ')"
   ]
  },
  {
   "cell_type": "code",
   "execution_count": 25,
   "metadata": {},
   "outputs": [
    {
     "name": "stdout",
     "output_type": "stream",
     "text": [
      "10 | 11 | 12 | 13 | 14 | "
     ]
    }
   ],
   "source": [
    "# range()\n",
    "\n",
    "for i in range(10,15):\n",
    "    print(i,end=' | ')"
   ]
  },
  {
   "cell_type": "code",
   "execution_count": 28,
   "metadata": {},
   "outputs": [
    {
     "name": "stdout",
     "output_type": "stream",
     "text": [
      "10 | 12 | 14 | 16 | "
     ]
    }
   ],
   "source": [
    "# range()\n",
    "\n",
    "for i in range(10,17,2):\n",
    "    print(i,end=' | ')"
   ]
  },
  {
   "cell_type": "code",
   "execution_count": 29,
   "metadata": {},
   "outputs": [
    {
     "name": "stdout",
     "output_type": "stream",
     "text": [
      "10 | 13 | 16 | "
     ]
    }
   ],
   "source": [
    "# range()\n",
    "\n",
    "for i in range(10,17,3):\n",
    "    print(i,end=' | ')"
   ]
  },
  {
   "cell_type": "code",
   "execution_count": 30,
   "metadata": {},
   "outputs": [
    {
     "name": "stdout",
     "output_type": "stream",
     "text": [
      "10 | 14 | "
     ]
    }
   ],
   "source": [
    "# range()\n",
    "\n",
    "for i in range(10,17,4):\n",
    "    print(i,end=' | ')"
   ]
  },
  {
   "cell_type": "markdown",
   "metadata": {},
   "source": [
    "# Functions\n",
    "\n",
    "> Built-in Functions: print(), type(), input(), int()\n",
    "\n",
    ">User Defined Functions"
   ]
  },
  {
   "cell_type": "code",
   "execution_count": 33,
   "metadata": {},
   "outputs": [
    {
     "name": "stdout",
     "output_type": "stream",
     "text": [
      "Hello Darshan\n",
      "Back from function\n"
     ]
    }
   ],
   "source": [
    "# User Defined Functions\n",
    "\n",
    "def greet():\n",
    "    print(\"Hello Darshan\")\n",
    "    \n",
    "greet()\n",
    "print(\"Back from function\")"
   ]
  },
  {
   "cell_type": "code",
   "execution_count": 36,
   "metadata": {},
   "outputs": [
    {
     "name": "stdout",
     "output_type": "stream",
     "text": [
      "7\n",
      "25\n"
     ]
    }
   ],
   "source": [
    "# Create a function to add two numbers\n",
    "\n",
    "def addnos(no1, no2):\n",
    "    result = no1+no2\n",
    "    print(result)\n",
    "    \n",
    "addnos(2,5)\n",
    "addnos(12,13)"
   ]
  },
  {
   "cell_type": "code",
   "execution_count": 38,
   "metadata": {},
   "outputs": [
    {
     "name": "stdout",
     "output_type": "stream",
     "text": [
      "Enter 1st no:100\n",
      "Enter 2nd no:400\n",
      "500\n"
     ]
    }
   ],
   "source": [
    "# Create a function to add two numbers\n",
    "\n",
    "def addnos(no1, no2):\n",
    "    result = no1+no2\n",
    "    print(result)\n",
    "    \n",
    "a = int(input(\"Enter 1st no:\"))\n",
    "b = int(input(\"Enter 2nd no:\"))\n",
    "addnos(a,b)"
   ]
  },
  {
   "cell_type": "code",
   "execution_count": 47,
   "metadata": {},
   "outputs": [
    {
     "name": "stdout",
     "output_type": "stream",
     "text": [
      "Enter 1st no:12\n",
      "Enter 2nd no:13\n",
      "25\n"
     ]
    }
   ],
   "source": [
    "# Create a function to add two numbers\n",
    "\n",
    "def addnos(no1=100, no2=50):\n",
    "    result = no1+no2\n",
    "    print(result)\n",
    "    \n",
    "addnos(int(input(\"Enter 1st no:\")),int(input(\"Enter 2nd no:\")))"
   ]
  },
  {
   "cell_type": "code",
   "execution_count": 48,
   "metadata": {},
   "outputs": [
    {
     "name": "stdout",
     "output_type": "stream",
     "text": [
      "150\n"
     ]
    }
   ],
   "source": [
    "addnos()"
   ]
  },
  {
   "cell_type": "markdown",
   "metadata": {},
   "source": [
    "# String"
   ]
  },
  {
   "cell_type": "code",
   "execution_count": 57,
   "metadata": {},
   "outputs": [
    {
     "name": "stdout",
     "output_type": "stream",
     "text": [
      "Darshan\n",
      "<class 'str'>\n",
      "D\n",
      "a\n",
      "n\n",
      "a\n",
      "True\n",
      "arsh\n",
      "Darsh\n",
      "arshan\n"
     ]
    }
   ],
   "source": [
    "s = \"Darshan\"\n",
    "print(s)\n",
    "print(type(s))\n",
    "print(s[0]) # for indexing, always use []\n",
    "print(s[5])\n",
    "print(s[-1])\n",
    "print(s[-6])\n",
    "print(s[-6]==s[1])\n",
    "# Slicing s[start_index, end_index] - It will fetch records from \n",
    "# start_index to (end_index - 1)\n",
    "print(s[1:5]) # 1 to (5-1)\n",
    "print(s[:5]) # 0 to (5-1)\n",
    "print(s[1:]) # 1 to end"
   ]
  },
  {
   "cell_type": "code",
   "execution_count": 88,
   "metadata": {},
   "outputs": [
    {
     "name": "stdout",
     "output_type": "stream",
     "text": [
      "An apple a day keeps the doctor away\n",
      "darshan\n",
      "DARSHAN\n",
      "2\n",
      "4\n",
      "2\n",
      "  Lets Upgrade   \n",
      "Lets Upgrade\n",
      "Lets Upgrade   \n",
      "  Lets Upgrade\n",
      "Darshan\n",
      "Dxrshxn\n",
      "Darshan\n",
      "['D', 'a', 'r', 's', 'h', 'a', 'n']\n",
      "an Apple a Day keePS the doCTor AwaY\n",
      "AN aPPLE A dAY KEEps THE DOctOR aWAy\n"
     ]
    }
   ],
   "source": [
    "# String Functions\n",
    "\n",
    "s = \"Darshan\"\n",
    "t = \"an Apple a Day keePS the doCTor AwaY\"\n",
    "n = \"  Lets Upgrade   \"\n",
    "print(t.capitalize())\n",
    "print(s.lower())\n",
    "print(s.upper())\n",
    "print(s.count('a'))\n",
    "print(t.count('a'))\n",
    "print(t.count('A'))\n",
    "print(n)\n",
    "print(n.strip())\n",
    "print(n.lstrip())\n",
    "print(n.rstrip())\n",
    "print(s)\n",
    "print(s.replace('a','x'))\n",
    "print(s)\n",
    "print(list(s))\n",
    "print(t)\n",
    "print(t.swapcase())"
   ]
  },
  {
   "cell_type": "code",
   "execution_count": null,
   "metadata": {},
   "outputs": [],
   "source": []
  },
  {
   "cell_type": "code",
   "execution_count": null,
   "metadata": {},
   "outputs": [],
   "source": []
  },
  {
   "cell_type": "code",
   "execution_count": null,
   "metadata": {},
   "outputs": [],
   "source": []
  },
  {
   "cell_type": "markdown",
   "metadata": {},
   "source": [
    "# List\n",
    "\n",
    "It is a collection of dissimilar values.\n",
    "\n",
    "It is stored in []\n",
    "\n",
    "It is mutable i.e. Flexible"
   ]
  },
  {
   "cell_type": "code",
   "execution_count": 65,
   "metadata": {},
   "outputs": [
    {
     "name": "stdout",
     "output_type": "stream",
     "text": [
      "['D', 'a', 'r', 's', 'h', 'a', 'n']\n",
      "<class 'list'>\n",
      "D\n",
      "a\n",
      "n\n",
      "a\n",
      "True\n",
      "['a', 'r', 's', 'h']\n",
      "['D', 'a', 'r', 's', 'h']\n",
      "['a', 'r', 's', 'h', 'a', 'n']\n"
     ]
    }
   ],
   "source": [
    "s = ['D', 'a', 'r', 's', 'h', 'a', 'n']\n",
    "print(s)\n",
    "print(type(s))\n",
    "print(s[0]) # for indexing, always use []\n",
    "print(s[5])\n",
    "print(s[-1])\n",
    "print(s[-6])\n",
    "print(s[-6]==s[1])\n",
    "# Slicing s[start_index, end_index] - It will fetch records from \n",
    "# start_index to (end_index - 1)\n",
    "print(s[1:5]) # 1 to (5-1)\n",
    "print(s[:5]) # 0 to (5-1)\n",
    "print(s[1:]) # 1 to end"
   ]
  },
  {
   "cell_type": "code",
   "execution_count": 66,
   "metadata": {},
   "outputs": [
    {
     "name": "stdout",
     "output_type": "stream",
     "text": [
      "['D', 58, 'LU', (2+3j), True, 45, 'n']\n",
      "<class 'list'>\n",
      "D\n",
      "45\n",
      "n\n",
      "58\n",
      "True\n",
      "[58, 'LU', (2+3j), True]\n",
      "['D', 58, 'LU', (2+3j), True]\n",
      "[58, 'LU', (2+3j), True, 45, 'n']\n"
     ]
    }
   ],
   "source": [
    "s = ['D', 58, 'LU', 2+3j, True, 45, 'n']\n",
    "print(s)\n",
    "print(type(s))\n",
    "print(s[0]) # for indexing, always use []\n",
    "print(s[5])\n",
    "print(s[-1])\n",
    "print(s[-6])\n",
    "print(s[-6]==s[1])\n",
    "# Slicing s[start_index, end_index] - It will fetch records from \n",
    "# start_index to (end_index - 1)\n",
    "print(s[1:5]) # 1 to (5-1)\n",
    "print(s[:5]) # 0 to (5-1)\n",
    "print(s[1:]) # 1 to end"
   ]
  },
  {
   "cell_type": "code",
   "execution_count": 71,
   "metadata": {},
   "outputs": [
    {
     "name": "stdout",
     "output_type": "stream",
     "text": [
      "[10, 20, 30, 40, 50]\n",
      "10\n",
      "['Darshan', 20, 30, 40, 50]\n",
      "Darshan\n"
     ]
    }
   ],
   "source": [
    "# List is mutable i.e. Flexible\n",
    "\n",
    "l = [10,20,30,40,50]\n",
    "print(l)\n",
    "print(l[0])\n",
    "l[0] = \"Darshan\"\n",
    "print(l)\n",
    "print(l[0])"
   ]
  },
  {
   "cell_type": "markdown",
   "metadata": {},
   "source": [
    "# Tuple\n",
    "\n",
    "It is a collection of dissimilar values.\n",
    "\n",
    "It is stored in ()\n",
    "\n",
    "It is Immutable i.e. Fixed"
   ]
  },
  {
   "cell_type": "code",
   "execution_count": 68,
   "metadata": {},
   "outputs": [
    {
     "name": "stdout",
     "output_type": "stream",
     "text": [
      "('D', 'a', 'r', 's', 'h', 'a', 'n')\n",
      "<class 'tuple'>\n",
      "D\n",
      "a\n",
      "n\n",
      "a\n",
      "True\n",
      "('a', 'r', 's', 'h')\n",
      "('D', 'a', 'r', 's', 'h')\n",
      "('a', 'r', 's', 'h', 'a', 'n')\n"
     ]
    }
   ],
   "source": [
    "s = ('D', 'a', 'r', 's', 'h', 'a', 'n')\n",
    "print(s)\n",
    "print(type(s))\n",
    "print(s[0]) # for indexing, always use []\n",
    "print(s[5])\n",
    "print(s[-1])\n",
    "print(s[-6])\n",
    "print(s[-6]==s[1])\n",
    "# Slicing s[start_index, end_index] - It will fetch records from \n",
    "# start_index to (end_index - 1)\n",
    "print(s[1:5]) # 1 to (5-1)\n",
    "print(s[:5]) # 0 to (5-1)\n",
    "print(s[1:]) # 1 to end"
   ]
  },
  {
   "cell_type": "code",
   "execution_count": 69,
   "metadata": {},
   "outputs": [
    {
     "name": "stdout",
     "output_type": "stream",
     "text": [
      "('D', 58, 'LU', (2+3j), True, 45, 'n')\n",
      "<class 'tuple'>\n",
      "D\n",
      "45\n",
      "n\n",
      "58\n",
      "True\n",
      "(58, 'LU', (2+3j), True)\n",
      "('D', 58, 'LU', (2+3j), True)\n",
      "(58, 'LU', (2+3j), True, 45, 'n')\n"
     ]
    }
   ],
   "source": [
    "s = ('D', 58, 'LU', 2+3j, True, 45, 'n')\n",
    "print(s)\n",
    "print(type(s))\n",
    "print(s[0]) # for indexing, always use []\n",
    "print(s[5])\n",
    "print(s[-1])\n",
    "print(s[-6])\n",
    "print(s[-6]==s[1])\n",
    "# Slicing s[start_index, end_index] - It will fetch records from \n",
    "# start_index to (end_index - 1)\n",
    "print(s[1:5]) # 1 to (5-1)\n",
    "print(s[:5]) # 0 to (5-1)\n",
    "print(s[1:]) # 1 to end"
   ]
  },
  {
   "cell_type": "code",
   "execution_count": 72,
   "metadata": {},
   "outputs": [
    {
     "name": "stdout",
     "output_type": "stream",
     "text": [
      "(10, 20, 30, 40, 50)\n",
      "10\n"
     ]
    },
    {
     "ename": "TypeError",
     "evalue": "'tuple' object does not support item assignment",
     "output_type": "error",
     "traceback": [
      "\u001b[1;31m---------------------------------------------------------------------------\u001b[0m",
      "\u001b[1;31mTypeError\u001b[0m                                 Traceback (most recent call last)",
      "\u001b[1;32m<ipython-input-72-239fdd90dbc3>\u001b[0m in \u001b[0;36m<module>\u001b[1;34m\u001b[0m\n\u001b[0;32m      4\u001b[0m \u001b[0mprint\u001b[0m\u001b[1;33m(\u001b[0m\u001b[0ml\u001b[0m\u001b[1;33m)\u001b[0m\u001b[1;33m\u001b[0m\u001b[1;33m\u001b[0m\u001b[0m\n\u001b[0;32m      5\u001b[0m \u001b[0mprint\u001b[0m\u001b[1;33m(\u001b[0m\u001b[0ml\u001b[0m\u001b[1;33m[\u001b[0m\u001b[1;36m0\u001b[0m\u001b[1;33m]\u001b[0m\u001b[1;33m)\u001b[0m\u001b[1;33m\u001b[0m\u001b[1;33m\u001b[0m\u001b[0m\n\u001b[1;32m----> 6\u001b[1;33m \u001b[0ml\u001b[0m\u001b[1;33m[\u001b[0m\u001b[1;36m0\u001b[0m\u001b[1;33m]\u001b[0m \u001b[1;33m=\u001b[0m \u001b[1;34m\"Darshan\"\u001b[0m\u001b[1;33m\u001b[0m\u001b[1;33m\u001b[0m\u001b[0m\n\u001b[0m\u001b[0;32m      7\u001b[0m \u001b[0mprint\u001b[0m\u001b[1;33m(\u001b[0m\u001b[0ml\u001b[0m\u001b[1;33m)\u001b[0m\u001b[1;33m\u001b[0m\u001b[1;33m\u001b[0m\u001b[0m\n\u001b[0;32m      8\u001b[0m \u001b[0mprint\u001b[0m\u001b[1;33m(\u001b[0m\u001b[0ml\u001b[0m\u001b[1;33m[\u001b[0m\u001b[1;36m0\u001b[0m\u001b[1;33m]\u001b[0m\u001b[1;33m)\u001b[0m\u001b[1;33m\u001b[0m\u001b[1;33m\u001b[0m\u001b[0m\n",
      "\u001b[1;31mTypeError\u001b[0m: 'tuple' object does not support item assignment"
     ]
    }
   ],
   "source": [
    "# Tuple is immutable i.e. Fixed\n",
    "\n",
    "l = (10,20,30,40,50)\n",
    "print(l)\n",
    "print(l[0])\n",
    "l[0] = \"Darshan\"\n",
    "print(l)\n",
    "print(l[0])"
   ]
  }
 ],
 "metadata": {
  "kernelspec": {
   "display_name": "Python 3",
   "language": "python",
   "name": "python3"
  },
  "language_info": {
   "codemirror_mode": {
    "name": "ipython",
    "version": 3
   },
   "file_extension": ".py",
   "mimetype": "text/x-python",
   "name": "python",
   "nbconvert_exporter": "python",
   "pygments_lexer": "ipython3",
   "version": "3.8.5"
  }
 },
 "nbformat": 4,
 "nbformat_minor": 4
}
