{
 "cells": [
  {
   "cell_type": "code",
   "execution_count": 2,
   "metadata": {},
   "outputs": [],
   "source": [
    "import math\n",
    "import numpy as np"
   ]
  },
  {
   "cell_type": "raw",
   "metadata": {},
   "source": [
    "Lets discuss this tomorrow.(numpy vs Python speed)\n",
    "\n",
    "https://stackoverflow.com/questions/52603487/speed-comparison-numpy-vs-python-standard\n",
    "\n",
    "https://stackoverflow.com/questions/10698858/built-in-range-or-numpy-arange-which-is-more-efficient#:~:text=arange%20probably%20resorts%20to%20a,all%20the%20values%20in%20memory."
   ]
  },
  {
   "cell_type": "code",
   "execution_count": 3,
   "metadata": {},
   "outputs": [
    {
     "name": "stdout",
     "output_type": "stream",
     "text": [
      "305 ns ± 31.7 ns per loop (mean ± std. dev. of 7 runs, 1000000 loops each)\n"
     ]
    }
   ],
   "source": [
    "%timeit math.log(10)\n",
    "# 158 ns ± 6.16 ns per loop (mean ± std. dev. of 7 runs, 10000000 loops each)"
   ]
  },
  {
   "cell_type": "code",
   "execution_count": 4,
   "metadata": {},
   "outputs": [
    {
     "name": "stdout",
     "output_type": "stream",
     "text": [
      "1.95 µs ± 264 ns per loop (mean ± std. dev. of 7 runs, 100000 loops each)\n"
     ]
    }
   ],
   "source": [
    "%timeit np.log(10)\n",
    "# 1.64 µs ± 93.2 ns per loop (mean ± std. dev. of 7 runs, 1000000 loops each)"
   ]
  },
  {
   "cell_type": "code",
   "execution_count": 5,
   "metadata": {},
   "outputs": [
    {
     "name": "stdout",
     "output_type": "stream",
     "text": [
      "315 ns ± 36.6 ns per loop (mean ± std. dev. of 7 runs, 1000000 loops each)\n"
     ]
    }
   ],
   "source": [
    "%timeit math.exp(3)\n",
    "# 146 ns ± 8.57 ns per loop (mean ± std. dev. of 7 runs, 10000000 loops each)"
   ]
  },
  {
   "cell_type": "code",
   "execution_count": 6,
   "metadata": {},
   "outputs": [
    {
     "name": "stdout",
     "output_type": "stream",
     "text": [
      "1.84 µs ± 86.7 ns per loop (mean ± std. dev. of 7 runs, 100000 loops each)\n"
     ]
    }
   ],
   "source": [
    "%timeit np.exp(3)\n",
    "# 1.72 µs ± 78.5 ns per loop (mean ± std. dev. of 7 runs, 1000000 loops each)"
   ]
  },
  {
   "cell_type": "code",
   "execution_count": 7,
   "metadata": {},
   "outputs": [],
   "source": [
    "import numpy as np # de facto standard"
   ]
  },
  {
   "cell_type": "code",
   "execution_count": 8,
   "metadata": {},
   "outputs": [
    {
     "name": "stdout",
     "output_type": "stream",
     "text": [
      "1.19.2\n"
     ]
    }
   ],
   "source": [
    "print(np.__version__)"
   ]
  },
  {
   "cell_type": "code",
   "execution_count": 9,
   "metadata": {},
   "outputs": [
    {
     "data": {
      "text/plain": [
       "array([10, 20, 30])"
      ]
     },
     "execution_count": 9,
     "metadata": {},
     "output_type": "execute_result"
    }
   ],
   "source": [
    "np.array( [10,20,30] )"
   ]
  },
  {
   "cell_type": "code",
   "execution_count": 10,
   "metadata": {},
   "outputs": [
    {
     "data": {
      "text/plain": [
       "array([10, 20, 30])"
      ]
     },
     "execution_count": 10,
     "metadata": {},
     "output_type": "execute_result"
    }
   ],
   "source": [
    "np.array( (10,20,30) )"
   ]
  },
  {
   "cell_type": "code",
   "execution_count": 11,
   "metadata": {
    "scrolled": true
   },
   "outputs": [
    {
     "data": {
      "text/plain": [
       "numpy.ndarray"
      ]
     },
     "execution_count": 11,
     "metadata": {},
     "output_type": "execute_result"
    }
   ],
   "source": [
    "type(np.array( [10,20,30] ))"
   ]
  },
  {
   "cell_type": "raw",
   "metadata": {},
   "source": [
    "ndarrays are of two types:\n",
    "1. 1D arrays\n",
    "2. 2D or more D arrays"
   ]
  },
  {
   "cell_type": "code",
   "execution_count": 28,
   "metadata": {},
   "outputs": [
    {
     "name": "stdout",
     "output_type": "stream",
     "text": [
      "[10. 20. 30.]\n",
      "<class 'numpy.ndarray'>\n",
      "float64\n",
      "(3,)\n",
      "1\n",
      "60.0\n",
      "20.0\n",
      "20.0\n",
      "10.0\n",
      "30.0\n"
     ]
    }
   ],
   "source": [
    "arr = np.array( [10,20.,30] )\n",
    "print(arr)\n",
    "print(type(arr))\n",
    "print(arr.dtype) # dtype is an attribute\n",
    "print(arr.shape)\n",
    "print(np.ndim(arr))\n",
    "print(np.sum(arr))\n",
    "print(np.mean(arr))\n",
    "print(np.median(arr))\n",
    "print(np.min(arr))\n",
    "print(np.max(arr))"
   ]
  },
  {
   "cell_type": "code",
   "execution_count": 29,
   "metadata": {},
   "outputs": [
    {
     "name": "stdout",
     "output_type": "stream",
     "text": [
      "[[1. 2.]\n",
      " [3. 4.]\n",
      " [5. 6.]]\n",
      "<class 'numpy.ndarray'>\n",
      "float64\n",
      "(3, 2)\n",
      "2\n",
      "21.0\n",
      "3.5\n",
      "3.5\n",
      "1.0\n",
      "6.0\n"
     ]
    }
   ],
   "source": [
    "arr = np.array( [ [1,2.0] , [3,4] , [5,6] ] )\n",
    "print(arr)\n",
    "print(type(arr))\n",
    "print(arr.dtype) # dtype is an attribute\n",
    "print(arr.shape)\n",
    "print(np.ndim(arr))\n",
    "print(np.sum(arr))\n",
    "print(np.mean(arr))\n",
    "print(np.median(arr))\n",
    "print(np.min(arr))\n",
    "print(np.max(arr))"
   ]
  },
  {
   "cell_type": "code",
   "execution_count": 25,
   "metadata": {},
   "outputs": [
    {
     "name": "stdout",
     "output_type": "stream",
     "text": [
      "[[10. 20. 30.]]\n",
      "<class 'numpy.ndarray'>\n",
      "float64\n",
      "(1, 3)\n",
      "2\n"
     ]
    }
   ],
   "source": [
    "arr = np.array( [[10,20.,30]] )\n",
    "print(arr)\n",
    "print(type(arr))\n",
    "print(arr.dtype) # dtype is an attribute\n",
    "print(arr.shape)\n",
    "print(np.ndim(arr))"
   ]
  },
  {
   "cell_type": "code",
   "execution_count": 32,
   "metadata": {},
   "outputs": [
    {
     "name": "stdout",
     "output_type": "stream",
     "text": [
      "['10' '20.0' '30' 'Darshan']\n",
      "<class 'numpy.ndarray'>\n",
      "<U32\n",
      "(4,)\n",
      "1\n"
     ]
    }
   ],
   "source": [
    "arr = np.array( [10,20.,30, \"Darshan\"] )\n",
    "print(arr)\n",
    "print(type(arr))\n",
    "print(arr.dtype) # dtype is an attribute\n",
    "print(arr.shape)\n",
    "print(np.ndim(arr))\n",
    "# Dont do below things\n",
    "# print(np.sum(arr))\n",
    "# print(np.mean(arr))\n",
    "# print(np.median(arr))\n",
    "# print(np.min(arr))\n",
    "# print(np.max(arr))"
   ]
  },
  {
   "cell_type": "code",
   "execution_count": 33,
   "metadata": {},
   "outputs": [
    {
     "data": {
      "text/plain": [
       "array([[0., 0., 0., 0.],\n",
       "       [0., 0., 0., 0.]])"
      ]
     },
     "execution_count": 33,
     "metadata": {},
     "output_type": "execute_result"
    }
   ],
   "source": [
    "np.zeros([2,4])"
   ]
  },
  {
   "cell_type": "code",
   "execution_count": 38,
   "metadata": {},
   "outputs": [
    {
     "data": {
      "text/plain": [
       "array([[1, 1, 1, 1],\n",
       "       [1, 1, 1, 1]])"
      ]
     },
     "execution_count": 38,
     "metadata": {},
     "output_type": "execute_result"
    }
   ],
   "source": [
    "np.ones([2,4], dtype=int)"
   ]
  },
  {
   "cell_type": "code",
   "execution_count": 37,
   "metadata": {},
   "outputs": [
    {
     "data": {
      "text/plain": [
       "array([[1., 0.],\n",
       "       [0., 1.]])"
      ]
     },
     "execution_count": 37,
     "metadata": {},
     "output_type": "execute_result"
    }
   ],
   "source": [
    "np.identity(2)"
   ]
  },
  {
   "cell_type": "code",
   "execution_count": 39,
   "metadata": {},
   "outputs": [
    {
     "data": {
      "text/plain": [
       "array([[1., 0., 0., 0., 0.],\n",
       "       [0., 1., 0., 0., 0.],\n",
       "       [0., 0., 1., 0., 0.],\n",
       "       [0., 0., 0., 1., 0.],\n",
       "       [0., 0., 0., 0., 1.]])"
      ]
     },
     "execution_count": 39,
     "metadata": {},
     "output_type": "execute_result"
    }
   ],
   "source": [
    "np.identity(5)"
   ]
  },
  {
   "cell_type": "code",
   "execution_count": 46,
   "metadata": {},
   "outputs": [
    {
     "name": "stdout",
     "output_type": "stream",
     "text": [
      "[[ 0.39710478 -0.27167862 -1.73784232  0.4084227 ]\n",
      " [-0.71859869  0.05323806  1.07777441 -0.28127708]\n",
      " [-1.67219267  0.79449005  0.8578195  -0.62468978]\n",
      " [-0.19519315  0.94861135 -0.14079639  0.58555347]\n",
      " [ 0.54432358 -1.17024946 -1.52236873 -0.04782537]\n",
      " [ 0.42616321 -0.34428117  0.33972272 -0.80653079]]\n",
      "\n",
      "-1.7378423159435181\n",
      "1.0777744127849287\n"
     ]
    }
   ],
   "source": [
    "arr = np.random.randn(6,4)\n",
    "print(arr)\n",
    "print()\n",
    "print(np.min(arr))\n",
    "print(np.max(arr))"
   ]
  },
  {
   "cell_type": "code",
   "execution_count": 54,
   "metadata": {},
   "outputs": [
    {
     "name": "stdout",
     "output_type": "stream",
     "text": [
      "[10. 20. 30. 40. 50. 60.]\n",
      "10.0\n",
      "50.0\n",
      "40.0\n",
      "[20. 30. 40.]\n"
     ]
    }
   ],
   "source": [
    "arr = np.array( [10,20.,30,40,50,60] )\n",
    "print(arr)\n",
    "# Indexing\n",
    "print(arr[0])\n",
    "print(arr[4])\n",
    "print(arr[-3])\n",
    "print(arr[1:4]) # 1 to (4-1)"
   ]
  },
  {
   "cell_type": "code",
   "execution_count": 58,
   "metadata": {},
   "outputs": [
    {
     "name": "stdout",
     "output_type": "stream",
     "text": [
      "[[1. 2.]\n",
      " [3. 4.]\n",
      " [5. 6.]]\n",
      "3.0\n",
      "3.0\n",
      "[3. 4.]\n"
     ]
    }
   ],
   "source": [
    "arr = np.array( [ [1,2.0] , [3,4] , [5,6] ] )\n",
    "print(arr)\n",
    "print(arr[1][0])\n",
    "print(arr[1,0])\n",
    "print(arr[1])"
   ]
  },
  {
   "cell_type": "code",
   "execution_count": 59,
   "metadata": {},
   "outputs": [
    {
     "data": {
      "text/plain": [
       "array([0, 1, 2, 3, 4])"
      ]
     },
     "execution_count": 59,
     "metadata": {},
     "output_type": "execute_result"
    }
   ],
   "source": [
    "np.arange(5)"
   ]
  },
  {
   "cell_type": "code",
   "execution_count": 60,
   "metadata": {},
   "outputs": [
    {
     "data": {
      "text/plain": [
       "array([ 0,  1,  2,  3,  4,  5,  6,  7,  8,  9, 10, 11])"
      ]
     },
     "execution_count": 60,
     "metadata": {},
     "output_type": "execute_result"
    }
   ],
   "source": [
    "np.arange(12)"
   ]
  },
  {
   "cell_type": "code",
   "execution_count": 65,
   "metadata": {},
   "outputs": [
    {
     "name": "stdout",
     "output_type": "stream",
     "text": [
      "[ 0  1  2  3  4  5  6  7  8  9 10 11]\n",
      "1\n",
      "[[ 0  1  2  3]\n",
      " [ 4  5  6  7]\n",
      " [ 8  9 10 11]]\n",
      "2\n"
     ]
    }
   ],
   "source": [
    "x = np.arange(12)\n",
    "print(x)\n",
    "print(np.ndim(x))\n",
    "y = x.reshape(3,4)\n",
    "print(y)\n",
    "print(np.ndim(y))"
   ]
  },
  {
   "cell_type": "code",
   "execution_count": 68,
   "metadata": {},
   "outputs": [
    {
     "name": "stdout",
     "output_type": "stream",
     "text": [
      "[ 0  1  2  3  4  5  6  7  8  9 10 11]\n",
      "1\n",
      "[[ 0]\n",
      " [ 1]\n",
      " [ 2]\n",
      " [ 3]\n",
      " [ 4]\n",
      " [ 5]\n",
      " [ 6]\n",
      " [ 7]\n",
      " [ 8]\n",
      " [ 9]\n",
      " [10]\n",
      " [11]]\n",
      "2\n"
     ]
    }
   ],
   "source": [
    "x = np.arange(12)\n",
    "print(x)\n",
    "print(np.ndim(x))\n",
    "y = x.reshape(12,1)\n",
    "print(y)\n",
    "print(np.ndim(y))"
   ]
  },
  {
   "cell_type": "code",
   "execution_count": 70,
   "metadata": {},
   "outputs": [
    {
     "name": "stdout",
     "output_type": "stream",
     "text": [
      "[ 0  1  2  3  4  5  6  7  8  9 10 11]\n",
      "1\n",
      "[[ 0  1  2  3  4  5  6  7  8  9 10 11]]\n",
      "2\n"
     ]
    }
   ],
   "source": [
    "x = np.arange(12)\n",
    "print(x)\n",
    "print(np.ndim(x))\n",
    "y = x.reshape(1,12)\n",
    "print(y)\n",
    "print(np.ndim(y))"
   ]
  },
  {
   "cell_type": "code",
   "execution_count": 71,
   "metadata": {},
   "outputs": [
    {
     "name": "stdout",
     "output_type": "stream",
     "text": [
      "[ 0  1  2  3  4  5  6  7  8  9 10 11]\n",
      "1\n",
      "[[ 0  1]\n",
      " [ 2  3]\n",
      " [ 4  5]\n",
      " [ 6  7]\n",
      " [ 8  9]\n",
      " [10 11]]\n",
      "2\n"
     ]
    }
   ],
   "source": [
    "x = np.arange(12)\n",
    "print(x)\n",
    "print(np.ndim(x))\n",
    "y = x.reshape(6,2)\n",
    "print(y)\n",
    "print(np.ndim(y))"
   ]
  },
  {
   "cell_type": "code",
   "execution_count": 72,
   "metadata": {},
   "outputs": [
    {
     "name": "stdout",
     "output_type": "stream",
     "text": [
      "[ 0  1  2  3  4  5  6  7  8  9 10 11]\n",
      "1\n",
      "[[ 0  1  2  3  4  5]\n",
      " [ 6  7  8  9 10 11]]\n",
      "2\n"
     ]
    }
   ],
   "source": [
    "x = np.arange(12)\n",
    "print(x)\n",
    "print(np.ndim(x))\n",
    "y = x.reshape(2,6)\n",
    "print(y)\n",
    "print(np.ndim(y))"
   ]
  },
  {
   "cell_type": "code",
   "execution_count": 78,
   "metadata": {},
   "outputs": [
    {
     "name": "stdout",
     "output_type": "stream",
     "text": [
      "[ 0  1  2  3  4  5  6  7  8  9 10 11]\n",
      "1\n",
      "[[[ 0  1  2]\n",
      "  [ 3  4  5]]\n",
      "\n",
      " [[ 6  7  8]\n",
      "  [ 9 10 11]]]\n",
      "3\n",
      "=====================\n",
      "[[0 1 2]\n",
      " [3 4 5]]\n",
      "[6 7 8]\n",
      "8\n"
     ]
    }
   ],
   "source": [
    "x = np.arange(12)\n",
    "print(x)\n",
    "print(np.ndim(x))\n",
    "y = x.reshape(2,2,3)\n",
    "print(y)\n",
    "print(np.ndim(y))\n",
    "print(\"=====================\")\n",
    "print(y[0])\n",
    "print(y[1][0])\n",
    "print(y[1][0][2])"
   ]
  },
  {
   "cell_type": "code",
   "execution_count": 80,
   "metadata": {},
   "outputs": [
    {
     "name": "stdout",
     "output_type": "stream",
     "text": [
      "[ 0  1  2  3  4  5  6  7  8  9 10 11]\n",
      "1\n",
      "[[[ 0]\n",
      "  [ 1]]\n",
      "\n",
      " [[ 2]\n",
      "  [ 3]]\n",
      "\n",
      " [[ 4]\n",
      "  [ 5]]\n",
      "\n",
      " [[ 6]\n",
      "  [ 7]]\n",
      "\n",
      " [[ 8]\n",
      "  [ 9]]\n",
      "\n",
      " [[10]\n",
      "  [11]]]\n",
      "3\n"
     ]
    }
   ],
   "source": [
    "x = np.arange(12)\n",
    "print(x)\n",
    "print(np.ndim(x))\n",
    "y = x.reshape(6,2,1)\n",
    "print(y)\n",
    "print(np.ndim(y))"
   ]
  },
  {
   "cell_type": "code",
   "execution_count": 81,
   "metadata": {},
   "outputs": [
    {
     "name": "stdout",
     "output_type": "stream",
     "text": [
      "[ 0  1  2  3  4  5  6  7  8  9 10 11]\n",
      "1\n",
      "[[[ 0]]\n",
      "\n",
      " [[ 1]]\n",
      "\n",
      " [[ 2]]\n",
      "\n",
      " [[ 3]]\n",
      "\n",
      " [[ 4]]\n",
      "\n",
      " [[ 5]]\n",
      "\n",
      " [[ 6]]\n",
      "\n",
      " [[ 7]]\n",
      "\n",
      " [[ 8]]\n",
      "\n",
      " [[ 9]]\n",
      "\n",
      " [[10]]\n",
      "\n",
      " [[11]]]\n",
      "3\n"
     ]
    }
   ],
   "source": [
    "x = np.arange(12)\n",
    "print(x)\n",
    "print(np.ndim(x))\n",
    "y = x.reshape(12,1,1)\n",
    "print(y)\n",
    "print(np.ndim(y))"
   ]
  },
  {
   "cell_type": "code",
   "execution_count": 82,
   "metadata": {},
   "outputs": [
    {
     "name": "stdout",
     "output_type": "stream",
     "text": [
      "[ 0  1  2  3  4  5  6  7  8  9 10 11]\n",
      "1\n",
      "[[[ 0]\n",
      "  [ 1]\n",
      "  [ 2]]\n",
      "\n",
      " [[ 3]\n",
      "  [ 4]\n",
      "  [ 5]]\n",
      "\n",
      " [[ 6]\n",
      "  [ 7]\n",
      "  [ 8]]\n",
      "\n",
      " [[ 9]\n",
      "  [10]\n",
      "  [11]]]\n",
      "3\n"
     ]
    }
   ],
   "source": [
    "x = np.arange(12)\n",
    "print(x)\n",
    "print(np.ndim(x))\n",
    "y = x.reshape(4,3,1)\n",
    "print(y)\n",
    "print(np.ndim(y))"
   ]
  },
  {
   "cell_type": "code",
   "execution_count": 84,
   "metadata": {},
   "outputs": [
    {
     "data": {
      "text/plain": [
       "array([[ 0,  1,  2,  3,  4],\n",
       "       [ 5,  6,  7,  8,  9],\n",
       "       [10, 11, 12, 13, 14]])"
      ]
     },
     "execution_count": 84,
     "metadata": {},
     "output_type": "execute_result"
    }
   ],
   "source": [
    "# Universal Functions: Concept of Broadcasting\n",
    "\n",
    "arr = np.arange(15).reshape(3,5)\n",
    "arr"
   ]
  },
  {
   "cell_type": "code",
   "execution_count": 85,
   "metadata": {},
   "outputs": [
    {
     "data": {
      "text/plain": [
       "array([[10, 11, 12, 13, 14],\n",
       "       [15, 16, 17, 18, 19],\n",
       "       [20, 21, 22, 23, 24]])"
      ]
     },
     "execution_count": 85,
     "metadata": {},
     "output_type": "execute_result"
    }
   ],
   "source": [
    "arr + 10"
   ]
  },
  {
   "cell_type": "code",
   "execution_count": 88,
   "metadata": {},
   "outputs": [
    {
     "name": "stdout",
     "output_type": "stream",
     "text": [
      "[[ 0  1  2]\n",
      " [ 3  4  5]\n",
      " [ 6  7  8]\n",
      " [ 9 10 11]\n",
      " [12 13 14]]\n",
      "[[0]\n",
      " [1]\n",
      " [2]\n",
      " [3]\n",
      " [4]]\n"
     ]
    },
    {
     "data": {
      "text/plain": [
       "array([[ 0,  1,  2],\n",
       "       [ 4,  5,  6],\n",
       "       [ 8,  9, 10],\n",
       "       [12, 13, 14],\n",
       "       [16, 17, 18]])"
      ]
     },
     "execution_count": 88,
     "metadata": {},
     "output_type": "execute_result"
    }
   ],
   "source": [
    "arr1 = np.arange(15).reshape(5,3)\n",
    "arr2 = np.arange(5).reshape(5,1)\n",
    "print(arr1)\n",
    "print(arr2)\n",
    "arr1+arr2"
   ]
  },
  {
   "cell_type": "code",
   "execution_count": 90,
   "metadata": {},
   "outputs": [
    {
     "name": "stdout",
     "output_type": "stream",
     "text": [
      "[[1 2 3]\n",
      " [4 5 6]\n",
      " [7 8 9]]\n",
      "[[2 2 2]\n",
      " [3 3 3]\n",
      " [4 4 4]]\n"
     ]
    },
    {
     "data": {
      "text/plain": [
       "array([[20, 20, 20],\n",
       "       [47, 47, 47],\n",
       "       [74, 74, 74]])"
      ]
     },
     "execution_count": 90,
     "metadata": {},
     "output_type": "execute_result"
    }
   ],
   "source": [
    "A = np.array([[1,2,3],[4,5,6],[7,8,9]])\n",
    "B = np.array([[2,2,2],[3,3,3],[4,4,4]])\n",
    "print(A)\n",
    "print(B)\n",
    "# Matrix Multiplication - dot()\n",
    "A.dot(B)"
   ]
  },
  {
   "cell_type": "code",
   "execution_count": 91,
   "metadata": {},
   "outputs": [
    {
     "name": "stdout",
     "output_type": "stream",
     "text": [
      "[[1 2 3]\n",
      " [4 5 6]\n",
      " [7 8 9]]\n"
     ]
    },
    {
     "data": {
      "text/plain": [
       "array([[1, 4, 7],\n",
       "       [2, 5, 8],\n",
       "       [3, 6, 9]])"
      ]
     },
     "execution_count": 91,
     "metadata": {},
     "output_type": "execute_result"
    }
   ],
   "source": [
    "# transpose\n",
    "A = np.array([[1,2,3],[4,5,6],[7,8,9]])\n",
    "print(A)\n",
    "A.T"
   ]
  },
  {
   "cell_type": "raw",
   "metadata": {},
   "source": [
    "Linear Equations\n",
    "\n",
    "7x + 5y - 3z = 16\n",
    "3x - 5y + 2z = -8\n",
    "5x + 3y - 7z = 0"
   ]
  },
  {
   "cell_type": "code",
   "execution_count": 92,
   "metadata": {},
   "outputs": [
    {
     "data": {
      "text/plain": [
       "array([1., 3., 2.])"
      ]
     },
     "execution_count": 92,
     "metadata": {},
     "output_type": "execute_result"
    }
   ],
   "source": [
    "a = np.array([[7,5,-3],[3,-5,2],[5,3,-7]])\n",
    "b = np.array([16,-8,0])\n",
    "ans = np.linalg.solve(a,b)\n",
    "ans"
   ]
  },
  {
   "cell_type": "markdown",
   "metadata": {},
   "source": [
    "# End of Numpy\n",
    "\n",
    "# Matplotlib"
   ]
  },
  {
   "cell_type": "code",
   "execution_count": 93,
   "metadata": {},
   "outputs": [],
   "source": [
    "import matplotlib.pyplot as plt"
   ]
  },
  {
   "cell_type": "code",
   "execution_count": 94,
   "metadata": {},
   "outputs": [],
   "source": [
    "plt.style.use('seaborn-colorblind')\n",
    "# http://tonysyu.github.io/raw_content/matplotlib-style-gallery/gallery.html"
   ]
  },
  {
   "cell_type": "code",
   "execution_count": 101,
   "metadata": {},
   "outputs": [
    {
     "data": {
      "image/png": "[encoded data removed]",
      "text/plain": [
       "<Figure size 432x288 with 1 Axes>"
      ]
     },
     "metadata": {
      "needs_background": "light"
     },
     "output_type": "display_data"
    }
   ],
   "source": [
    "x = np.linspace(0,10,100)\n",
    "y = np.sin(x)\n",
    "z = np.cos(x)\n",
    "plt.plot(x,y)\n",
    "plt.plot(x,z);"
   ]
  },
  {
   "cell_type": "code",
   "execution_count": 106,
   "metadata": {},
   "outputs": [
    {
     "data": {
      "image/png": "[encoded data removed]",
      "text/plain": [
       "<Figure size 432x288 with 1 Axes>"
      ]
     },
     "metadata": {
      "needs_background": "light"
     },
     "output_type": "display_data"
    }
   ],
   "source": [
    "%matplotlib inline \n",
    "# by default, it is always inline\n",
    "\n",
    "x = np.linspace(0,10,100)\n",
    "y = np.sin(x)\n",
    "z = np.cos(x)\n",
    "plt.plot(x,y)\n",
    "plt.plot(x,z);"
   ]
  },
  {
   "cell_type": "code",
   "execution_count": 108,
   "metadata": {},
   "outputs": [
    {
     "data": {
      "application/javascript": [
       "/* Put everything inside the global mpl namespace */\n",
       "/* global mpl */\n",
       "window.mpl = {};\n",
       "\n",
       "mpl.get_websocket_type = function () {\n",
       "    if (typeof WebSocket !== 'undefined') {\n",
       "        return WebSocket;\n",
       "    } else if (typeof MozWebSocket !== 'undefined') {\n",
       "        return MozWebSocket;\n",
       "    } else {\n",
       "        alert(\n",
       "            'Your browser does not have WebSocket support. ' +\n",
       "                'Please try Chrome, Safari or Firefox ≥ 6. ' +\n",
       "                'Firefox 4 and 5 are also supported but you ' +\n",
       "                'have to enable WebSockets in about:config.'\n",
       "        );\n",
       "    }\n",
       "};\n",
       "\n",
       "mpl.figure = function (figure_id, websocket, ondownload, parent_element) {\n",
       "    this.id = figure_id;\n",
       "\n",
       "    this.ws = websocket;\n",
       "\n",
       "    this.supports_binary = this.ws.binaryType !== undefined;\n",
       "\n",
       "    if (!this.supports_binary) {\n",
       "        var warnings = document.getElementById('mpl-warnings');\n",
       "        if (warnings) {\n",
       "            warnings.style.display = 'block';\n",
       "            warnings.textContent =\n",
       "                'This browser does not support binary websocket messages. ' +\n",
       "                'Performance may be slow.';\n",
       "        }\n",
       "    }\n",
       "\n",
       "    this.imageObj = new Image();\n",
       "\n",
       "    this.context = undefined;\n",
       "    this.message = undefined;\n",
       "    this.canvas = undefined;\n",
       "    this.rubberband_canvas = undefined;\n",
       "    this.rubberband_context = undefined;\n",
       "    this.format_dropdown = undefined;\n",
       "\n",
       "    this.image_mode = 'full';\n",
       "\n",
       "    this.root = document.createElement('div');\n",
       "    this.root.setAttribute('style', 'display: inline-block');\n",
       "    this._root_extra_style(this.root);\n",
       "\n",
       "    parent_element.appendChild(this.root);\n",
       "\n",
       "    this._init_header(this);\n",
       "    this._init_canvas(this);\n",
       "    this._init_toolbar(this);\n",
       "\n",
       "    var fig = this;\n",
       "\n",
       "    this.waiting = false;\n",
       "\n",
       "    this.ws.onopen = function () {\n",
       "        fig.send_message('supports_binary', { value: fig.supports_binary });\n",
       "        fig.send_message('send_image_mode', {});\n",
       "        if (fig.ratio !== 1) {\n",
       "            fig.send_message('set_dpi_ratio', { dpi_ratio: fig.ratio });\n",
       "        }\n",
       "        fig.send_message('refresh', {});\n",
       "    };\n",
       "\n",
       "    this.imageObj.onload = function () {\n",
       "        if (fig.image_mode === 'full') {\n",
       "            // Full images could contain transparency (where diff images\n",
       "            // almost always do), so we need to clear the canvas so that\n",
       "            // there is no ghosting.\n",
       "            fig.context.clearRect(0, 0, fig.canvas.width, fig.canvas.height);\n",
       "        }\n",
       "        fig.context.drawImage(fig.imageObj, 0, 0);\n",
       "    };\n",
       "\n",
       "    this.imageObj.onunload = function () {\n",
       "        fig.ws.close();\n",
       "    };\n",
       "\n",
       "    this.ws.onmessage = this._make_on_message_function(this);\n",
       "\n",
       "    this.ondownload = ondownload;\n",
       "};\n",
       "\n",
       "mpl.figure.prototype._init_header = function () {\n",
       "    var titlebar = document.createElement('div');\n",
       "    titlebar.classList =\n",
       "        'ui-dialog-titlebar ui-widget-header ui-corner-all ui-helper-clearfix';\n",
       "    var titletext = document.createElement('div');\n",
       "    titletext.classList = 'ui-dialog-title';\n",
       "    titletext.setAttribute(\n",
       "        'style',\n",
       "        'width: 100%; text-align: center; padding: 3px;'\n",
       "    );\n",
       "    titlebar.appendChild(titletext);\n",
       "    this.root.appendChild(titlebar);\n",
       "    this.header = titletext;\n",
       "};\n",
       "\n",
       "mpl.figure.prototype._canvas_extra_style = function (_canvas_div) {};\n",
       "\n",
       "mpl.figure.prototype._root_extra_style = function (_canvas_div) {};\n",
       "\n",
       "mpl.figure.prototype._init_canvas = function () {\n",
       "    var fig = this;\n",
       "\n",
       "    var canvas_div = (this.canvas_div = document.createElement('div'));\n",
       "    canvas_div.setAttribute(\n",
       "        'style',\n",
       "        'border: 1px solid #ddd;' +\n",
       "            'box-sizing: content-box;' +\n",
       "            'clear: both;' +\n",
       "            'min-height: 1px;' +\n",
       "            'min-width: 1px;' +\n",
       "            'outline: 0;' +\n",
       "            'overflow: hidden;' +\n",
       "            'position: relative;' +\n",
       "            'resize: both;'\n",
       "    );\n",
       "\n",
       "    function on_keyboard_event_closure(name) {\n",
       "        return function (event) {\n",
       "            return fig.key_event(event, name);\n",
       "        };\n",
       "    }\n",
       "\n",
       "    canvas_div.addEventListener(\n",
       "        'keydown',\n",
       "        on_keyboard_event_closure('key_press')\n",
       "    );\n",
       "    canvas_div.addEventListener(\n",
       "        'keyup',\n",
       "        on_keyboard_event_closure('key_release')\n",
       "    );\n",
       "\n",
       "    this._canvas_extra_style(canvas_div);\n",
       "    this.root.appendChild(canvas_div);\n",
       "\n",
       "    var canvas = (this.canvas = document.createElement('canvas'));\n",
       "    canvas.classList.add('mpl-canvas');\n",
       "    canvas.setAttribute('style', 'box-sizing: content-box;');\n",
       "\n",
       "    this.context = canvas.getContext('2d');\n",
       "\n",
       "    var backingStore =\n",
       "        this.context.backingStorePixelRatio ||\n",
       "        this.context.webkitBackingStorePixelRatio ||\n",
       "        this.context.mozBackingStorePixelRatio ||\n",
       "        this.context.msBackingStorePixelRatio ||\n",
       "        this.context.oBackingStorePixelRatio ||\n",
       "        this.context.backingStorePixelRatio ||\n",
       "        1;\n",
       "\n",
       "    this.ratio = (window.devicePixelRatio || 1) / backingStore;\n",
       "    if (this.ratio !== 1) {\n",
       "        fig.send_message('set_dpi_ratio', { dpi_ratio: this.ratio });\n",
       "    }\n",
       "\n",
       "    var rubberband_canvas = (this.rubberband_canvas = document.createElement(\n",
       "        'canvas'\n",
       "    ));\n",
       "    rubberband_canvas.setAttribute(\n",
       "        'style',\n",
       "        'box-sizing: content-box; position: absolute; left: 0; top: 0; z-index: 1;'\n",
       "    );\n",
       "\n",
       "    var resizeObserver = new ResizeObserver(function (entries) {\n",
       "        var nentries = entries.length;\n",
       "        for (var i = 0; i < nentries; i++) {\n",
       "            var entry = entries[i];\n",
       "            var width, height;\n",
       "            if (entry.contentBoxSize) {\n",
       "                if (entry.contentBoxSize instanceof Array) {\n",
       "                    // Chrome 84 implements new version of spec.\n",
       "                    width = entry.contentBoxSize[0].inlineSize;\n",
       "                    height = entry.contentBoxSize[0].blockSize;\n",
       "                } else {\n",
       "                    // Firefox implements old version of spec.\n",
       "                    width = entry.contentBoxSize.inlineSize;\n",
       "                    height = entry.contentBoxSize.blockSize;\n",
       "                }\n",
       "            } else {\n",
       "                // Chrome <84 implements even older version of spec.\n",
       "                width = entry.contentRect.width;\n",
       "                height = entry.contentRect.height;\n",
       "            }\n",
       "\n",
       "            // Keep the size of the canvas and rubber band canvas in sync with\n",
       "            // the canvas container.\n",
       "            if (entry.devicePixelContentBoxSize) {\n",
       "                // Chrome 84 implements new version of spec.\n",
       "                canvas.setAttribute(\n",
       "                    'width',\n",
       "                    entry.devicePixelContentBoxSize[0].inlineSize\n",
       "                );\n",
       "                canvas.setAttribute(\n",
       "                    'height',\n",
       "                    entry.devicePixelContentBoxSize[0].blockSize\n",
       "                );\n",
       "            } else {\n",
       "                canvas.setAttribute('width', width * fig.ratio);\n",
       "                canvas.setAttribute('height', height * fig.ratio);\n",
       "            }\n",
       "            canvas.setAttribute(\n",
       "                'style',\n",
       "                'width: ' + width + 'px; height: ' + height + 'px;'\n",
       "            );\n",
       "\n",
       "            rubberband_canvas.setAttribute('width', width);\n",
       "            rubberband_canvas.setAttribute('height', height);\n",
       "\n",
       "            // And update the size in Python. We ignore the initial 0/0 size\n",
       "            // that occurs as the element is placed into the DOM, which should\n",
       "            // otherwise not happen due to the minimum size styling.\n",
       "            if (width != 0 && height != 0) {\n",
       "                fig.request_resize(width, height);\n",
       "            }\n",
       "        }\n",
       "    });\n",
       "    resizeObserver.observe(canvas_div);\n",
       "\n",
       "    function on_mouse_event_closure(name) {\n",
       "        return function (event) {\n",
       "            return fig.mouse_event(event, name);\n",
       "        };\n",
       "    }\n",
       "\n",
       "    rubberband_canvas.addEventListener(\n",
       "        'mousedown',\n",
       "        on_mouse_event_closure('button_press')\n",
       "    );\n",
       "    rubberband_canvas.addEventListener(\n",
       "        'mouseup',\n",
       "        on_mouse_event_closure('button_release')\n",
       "    );\n",
       "    // Throttle sequential mouse events to 1 every 20ms.\n",
       "    rubberband_canvas.addEventListener(\n",
       "        'mousemove',\n",
       "        on_mouse_event_closure('motion_notify')\n",
       "    );\n",
       "\n",
       "    rubberband_canvas.addEventListener(\n",
       "        'mouseenter',\n",
       "        on_mouse_event_closure('figure_enter')\n",
       "    );\n",
       "    rubberband_canvas.addEventListener(\n",
       "        'mouseleave',\n",
       "        on_mouse_event_closure('figure_leave')\n",
       "    );\n",
       "\n",
       "    canvas_div.addEventListener('wheel', function (event) {\n",
       "        if (event.deltaY < 0) {\n",
       "            event.step = 1;\n",
       "        } else {\n",
       "            event.step = -1;\n",
       "        }\n",
       "        on_mouse_event_closure('scroll')(event);\n",
       "    });\n",
       "\n",
       "    canvas_div.appendChild(canvas);\n",
       "    canvas_div.appendChild(rubberband_canvas);\n",
       "\n",
       "    this.rubberband_context = rubberband_canvas.getContext('2d');\n",
       "    this.rubberband_context.strokeStyle = '#000000';\n",
       "\n",
       "    this._resize_canvas = function (width, height, forward) {\n",
       "        if (forward) {\n",
       "            canvas_div.style.width = width + 'px';\n",
       "            canvas_div.style.height = height + 'px';\n",
       "        }\n",
       "    };\n",
       "\n",
       "    // Disable right mouse context menu.\n",
       "    this.rubberband_canvas.addEventListener('contextmenu', function (_e) {\n",
       "        event.preventDefault();\n",
       "        return false;\n",
       "    });\n",
       "\n",
       "    function set_focus() {\n",
       "        canvas.focus();\n",
       "        canvas_div.focus();\n",
       "    }\n",
       "\n",
       "    window.setTimeout(set_focus, 100);\n",
       "};\n",
       "\n",
       "mpl.figure.prototype._init_toolbar = function () {\n",
       "    var fig = this;\n",
       "\n",
       "    var toolbar = document.createElement('div');\n",
       "    toolbar.classList = 'mpl-toolbar';\n",
       "    this.root.appendChild(toolbar);\n",
       "\n",
       "    function on_click_closure(name) {\n",
       "        return function (_event) {\n",
       "            return fig.toolbar_button_onclick(name);\n",
       "        };\n",
       "    }\n",
       "\n",
       "    function on_mouseover_closure(tooltip) {\n",
       "        return function (event) {\n",
       "            if (!event.currentTarget.disabled) {\n",
       "                return fig.toolbar_button_onmouseover(tooltip);\n",
       "            }\n",
       "        };\n",
       "    }\n",
       "\n",
       "    fig.buttons = {};\n",
       "    var buttonGroup = document.createElement('div');\n",
       "    buttonGroup.classList = 'mpl-button-group';\n",
       "    for (var toolbar_ind in mpl.toolbar_items) {\n",
       "        var name = mpl.toolbar_items[toolbar_ind][0];\n",
       "        var tooltip = mpl.toolbar_items[toolbar_ind][1];\n",
       "        var image = mpl.toolbar_items[toolbar_ind][2];\n",
       "        var method_name = mpl.toolbar_items[toolbar_ind][3];\n",
       "\n",
       "        if (!name) {\n",
       "            /* Instead of a spacer, we start a new button group. */\n",
       "            if (buttonGroup.hasChildNodes()) {\n",
       "                toolbar.appendChild(buttonGroup);\n",
       "            }\n",
       "            buttonGroup = document.createElement('div');\n",
       "            buttonGroup.classList = 'mpl-button-group';\n",
       "            continue;\n",
       "        }\n",
       "\n",
       "        var button = (fig.buttons[name] = document.createElement('button'));\n",
       "        button.classList = 'mpl-widget';\n",
       "        button.setAttribute('role', 'button');\n",
       "        button.setAttribute('aria-disabled', 'false');\n",
       "        button.addEventListener('click', on_click_closure(method_name));\n",
       "        button.addEventListener('mouseover', on_mouseover_closure(tooltip));\n",
       "\n",
       "        var icon_img = document.createElement('img');\n",
       "        icon_img.src = '_images/' + image + '.png';\n",
       "        icon_img.srcset = '_images/' + image + '_large.png 2x';\n",
       "        icon_img.alt = tooltip;\n",
       "        button.appendChild(icon_img);\n",
       "\n",
       "        buttonGroup.appendChild(button);\n",
       "    }\n",
       "\n",
       "    if (buttonGroup.hasChildNodes()) {\n",
       "        toolbar.appendChild(buttonGroup);\n",
       "    }\n",
       "\n",
       "    var fmt_picker = document.createElement('select');\n",
       "    fmt_picker.classList = 'mpl-widget';\n",
       "    toolbar.appendChild(fmt_picker);\n",
       "    this.format_dropdown = fmt_picker;\n",
       "\n",
       "    for (var ind in mpl.extensions) {\n",
       "        var fmt = mpl.extensions[ind];\n",
       "        var option = document.createElement('option');\n",
       "        option.selected = fmt === mpl.default_extension;\n",
       "        option.innerHTML = fmt;\n",
       "        fmt_picker.appendChild(option);\n",
       "    }\n",
       "\n",
       "    var status_bar = document.createElement('span');\n",
       "    status_bar.classList = 'mpl-message';\n",
       "    toolbar.appendChild(status_bar);\n",
       "    this.message = status_bar;\n",
       "};\n",
       "\n",
       "mpl.figure.prototype.request_resize = function (x_pixels, y_pixels) {\n",
       "    // Request matplotlib to resize the figure. Matplotlib will then trigger a resize in the client,\n",
       "    // which will in turn request a refresh of the image.\n",
       "    this.send_message('resize', { width: x_pixels, height: y_pixels });\n",
       "};\n",
       "\n",
       "mpl.figure.prototype.send_message = function (type, properties) {\n",
       "    properties['type'] = type;\n",
       "    properties['figure_id'] = this.id;\n",
       "    this.ws.send(JSON.stringify(properties));\n",
       "};\n",
       "\n",
       "mpl.figure.prototype.send_draw_message = function () {\n",
       "    if (!this.waiting) {\n",
       "        this.waiting = true;\n",
       "        this.ws.send(JSON.stringify({ type: 'draw', figure_id: this.id }));\n",
       "    }\n",
       "};\n",
       "\n",
       "mpl.figure.prototype.handle_save = function (fig, _msg) {\n",
       "    var format_dropdown = fig.format_dropdown;\n",
       "    var format = format_dropdown.options[format_dropdown.selectedIndex].value;\n",
       "    fig.ondownload(fig, format);\n",
       "};\n",
       "\n",
       "mpl.figure.prototype.handle_resize = function (fig, msg) {\n",
       "    var size = msg['size'];\n",
       "    if (size[0] !== fig.canvas.width || size[1] !== fig.canvas.height) {\n",
       "        fig._resize_canvas(size[0], size[1], msg['forward']);\n",
       "        fig.send_message('refresh', {});\n",
       "    }\n",
       "};\n",
       "\n",
       "mpl.figure.prototype.handle_rubberband = function (fig, msg) {\n",
       "    var x0 = msg['x0'] / fig.ratio;\n",
       "    var y0 = (fig.canvas.height - msg['y0']) / fig.ratio;\n",
       "    var x1 = msg['x1'] / fig.ratio;\n",
       "    var y1 = (fig.canvas.height - msg['y1']) / fig.ratio;\n",
       "    x0 = Math.floor(x0) + 0.5;\n",
       "    y0 = Math.floor(y0) + 0.5;\n",
       "    x1 = Math.floor(x1) + 0.5;\n",
       "    y1 = Math.floor(y1) + 0.5;\n",
       "    var min_x = Math.min(x0, x1);\n",
       "    var min_y = Math.min(y0, y1);\n",
       "    var width = Math.abs(x1 - x0);\n",
       "    var height = Math.abs(y1 - y0);\n",
       "\n",
       "    fig.rubberband_context.clearRect(\n",
       "        0,\n",
       "        0,\n",
       "        fig.canvas.width / fig.ratio,\n",
       "        fig.canvas.height / fig.ratio\n",
       "    );\n",
       "\n",
       "    fig.rubberband_context.strokeRect(min_x, min_y, width, height);\n",
       "};\n",
       "\n",
       "mpl.figure.prototype.handle_figure_label = function (fig, msg) {\n",
       "    // Updates the figure title.\n",
       "    fig.header.textContent = msg['label'];\n",
       "};\n",
       "\n",
       "mpl.figure.prototype.handle_cursor = function (fig, msg) {\n",
       "    var cursor = msg['cursor'];\n",
       "    switch (cursor) {\n",
       "        case 0:\n",
       "            cursor = 'pointer';\n",
       "            break;\n",
       "        case 1:\n",
       "            cursor = 'default';\n",
       "            break;\n",
       "        case 2:\n",
       "            cursor = 'crosshair';\n",
       "            break;\n",
       "        case 3:\n",
       "            cursor = 'move';\n",
       "            break;\n",
       "    }\n",
       "    fig.rubberband_canvas.style.cursor = cursor;\n",
       "};\n",
       "\n",
       "mpl.figure.prototype.handle_message = function (fig, msg) {\n",
       "    fig.message.textContent = msg['message'];\n",
       "};\n",
       "\n",
       "mpl.figure.prototype.handle_draw = function (fig, _msg) {\n",
       "    // Request the server to send over a new figure.\n",
       "    fig.send_draw_message();\n",
       "};\n",
       "\n",
       "mpl.figure.prototype.handle_image_mode = function (fig, msg) {\n",
       "    fig.image_mode = msg['mode'];\n",
       "};\n",
       "\n",
       "mpl.figure.prototype.handle_history_buttons = function (fig, msg) {\n",
       "    for (var key in msg) {\n",
       "        if (!(key in fig.buttons)) {\n",
       "            continue;\n",
       "        }\n",
       "        fig.buttons[key].disabled = !msg[key];\n",
       "        fig.buttons[key].setAttribute('aria-disabled', !msg[key]);\n",
       "    }\n",
       "};\n",
       "\n",
       "mpl.figure.prototype.handle_navigate_mode = function (fig, msg) {\n",
       "    if (msg['mode'] === 'PAN') {\n",
       "        fig.buttons['Pan'].classList.add('active');\n",
       "        fig.buttons['Zoom'].classList.remove('active');\n",
       "    } else if (msg['mode'] === 'ZOOM') {\n",
       "        fig.buttons['Pan'].classList.remove('active');\n",
       "        fig.buttons['Zoom'].classList.add('active');\n",
       "    } else {\n",
       "        fig.buttons['Pan'].classList.remove('active');\n",
       "        fig.buttons['Zoom'].classList.remove('active');\n",
       "    }\n",
       "};\n",
       "\n",
       "mpl.figure.prototype.updated_canvas_event = function () {\n",
       "    // Called whenever the canvas gets updated.\n",
       "    this.send_message('ack', {});\n",
       "};\n",
       "\n",
       "// A function to construct a web socket function for onmessage handling.\n",
       "// Called in the figure constructor.\n",
       "mpl.figure.prototype._make_on_message_function = function (fig) {\n",
       "    return function socket_on_message(evt) {\n",
       "        if (evt.data instanceof Blob) {\n",
       "            /* FIXME: We get \"Resource interpreted as Image but\n",
       "             * transferred with MIME type text/plain:\" errors on\n",
       "             * Chrome.  But how to set the MIME type?  It doesn't seem\n",
       "             * to be part of the websocket stream */\n",
       "            evt.data.type = 'image/png';\n",
       "\n",
       "            /* Free the memory for the previous frames */\n",
       "            if (fig.imageObj.src) {\n",
       "                (window.URL || window.webkitURL).revokeObjectURL(\n",
       "                    fig.imageObj.src\n",
       "                );\n",
       "            }\n",
       "\n",
       "            fig.imageObj.src = (window.URL || window.webkitURL).createObjectURL(\n",
       "                evt.data\n",
       "            );\n",
       "            fig.updated_canvas_event();\n",
       "            fig.waiting = false;\n",
       "            return;\n",
       "        } else if (\n",
       "            typeof evt.data === 'string' &&\n",
       "            evt.data.slice(0, 21) === 'data:image/png;base64'\n",
       "        ) {\n",
       "            fig.imageObj.src = evt.data;\n",
       "            fig.updated_canvas_event();\n",
       "            fig.waiting = false;\n",
       "            return;\n",
       "        }\n",
       "\n",
       "        var msg = JSON.parse(evt.data);\n",
       "        var msg_type = msg['type'];\n",
       "\n",
       "        // Call the  \"handle_{type}\" callback, which takes\n",
       "        // the figure and JSON message as its only arguments.\n",
       "        try {\n",
       "            var callback = fig['handle_' + msg_type];\n",
       "        } catch (e) {\n",
       "            console.log(\n",
       "                \"No handler for the '\" + msg_type + \"' message type: \",\n",
       "                msg\n",
       "            );\n",
       "            return;\n",
       "        }\n",
       "\n",
       "        if (callback) {\n",
       "            try {\n",
       "                // console.log(\"Handling '\" + msg_type + \"' message: \", msg);\n",
       "                callback(fig, msg);\n",
       "            } catch (e) {\n",
       "                console.log(\n",
       "                    \"Exception inside the 'handler_\" + msg_type + \"' callback:\",\n",
       "                    e,\n",
       "                    e.stack,\n",
       "                    msg\n",
       "                );\n",
       "            }\n",
       "        }\n",
       "    };\n",
       "};\n",
       "\n",
       "// from http://stackoverflow.com/questions/1114465/getting-mouse-location-in-canvas\n",
       "mpl.findpos = function (e) {\n",
       "    //this section is from http://www.quirksmode.org/js/events_properties.html\n",
       "    var targ;\n",
       "    if (!e) {\n",
       "        e = window.event;\n",
       "    }\n",
       "    if (e.target) {\n",
       "        targ = e.target;\n",
       "    } else if (e.srcElement) {\n",
       "        targ = e.srcElement;\n",
       "    }\n",
       "    if (targ.nodeType === 3) {\n",
       "        // defeat Safari bug\n",
       "        targ = targ.parentNode;\n",
       "    }\n",
       "\n",
       "    // pageX,Y are the mouse positions relative to the document\n",
       "    var boundingRect = targ.getBoundingClientRect();\n",
       "    var x = e.pageX - (boundingRect.left + document.body.scrollLeft);\n",
       "    var y = e.pageY - (boundingRect.top + document.body.scrollTop);\n",
       "\n",
       "    return { x: x, y: y };\n",
       "};\n",
       "\n",
       "/*\n",
       " * return a copy of an object with only non-object keys\n",
       " * we need this to avoid circular references\n",
       " * http://stackoverflow.com/a/24161582/3208463\n",
       " */\n",
       "function simpleKeys(original) {\n",
       "    return Object.keys(original).reduce(function (obj, key) {\n",
       "        if (typeof original[key] !== 'object') {\n",
       "            obj[key] = original[key];\n",
       "        }\n",
       "        return obj;\n",
       "    }, {});\n",
       "}\n",
       "\n",
       "mpl.figure.prototype.mouse_event = function (event, name) {\n",
       "    var canvas_pos = mpl.findpos(event);\n",
       "\n",
       "    if (name === 'button_press') {\n",
       "        this.canvas.focus();\n",
       "        this.canvas_div.focus();\n",
       "    }\n",
       "\n",
       "    var x = canvas_pos.x * this.ratio;\n",
       "    var y = canvas_pos.y * this.ratio;\n",
       "\n",
       "    this.send_message(name, {\n",
       "        x: x,\n",
       "        y: y,\n",
       "        button: event.button,\n",
       "        step: event.step,\n",
       "        guiEvent: simpleKeys(event),\n",
       "    });\n",
       "\n",
       "    /* This prevents the web browser from automatically changing to\n",
       "     * the text insertion cursor when the button is pressed.  We want\n",
       "     * to control all of the cursor setting manually through the\n",
       "     * 'cursor' event from matplotlib */\n",
       "    event.preventDefault();\n",
       "    return false;\n",
       "};\n",
       "\n",
       "mpl.figure.prototype._key_event_extra = function (_event, _name) {\n",
       "    // Handle any extra behaviour associated with a key event\n",
       "};\n",
       "\n",
       "mpl.figure.prototype.key_event = function (event, name) {\n",
       "    // Prevent repeat events\n",
       "    if (name === 'key_press') {\n",
       "        if (event.which === this._key) {\n",
       "            return;\n",
       "        } else {\n",
       "            this._key = event.which;\n",
       "        }\n",
       "    }\n",
       "    if (name === 'key_release') {\n",
       "        this._key = null;\n",
       "    }\n",
       "\n",
       "    var value = '';\n",
       "    if (event.ctrlKey && event.which !== 17) {\n",
       "        value += 'ctrl+';\n",
       "    }\n",
       "    if (event.altKey && event.which !== 18) {\n",
       "        value += 'alt+';\n",
       "    }\n",
       "    if (event.shiftKey && event.which !== 16) {\n",
       "        value += 'shift+';\n",
       "    }\n",
       "\n",
       "    value += 'k';\n",
       "    value += event.which.toString();\n",
       "\n",
       "    this._key_event_extra(event, name);\n",
       "\n",
       "    this.send_message(name, { key: value, guiEvent: simpleKeys(event) });\n",
       "    return false;\n",
       "};\n",
       "\n",
       "mpl.figure.prototype.toolbar_button_onclick = function (name) {\n",
       "    if (name === 'download') {\n",
       "        this.handle_save(this, null);\n",
       "    } else {\n",
       "        this.send_message('toolbar_button', { name: name });\n",
       "    }\n",
       "};\n",
       "\n",
       "mpl.figure.prototype.toolbar_button_onmouseover = function (tooltip) {\n",
       "    this.message.textContent = tooltip;\n",
       "};\n",
       "mpl.toolbar_items = [[\"Home\", \"Reset original view\", \"fa fa-home icon-home\", \"home\"], [\"Back\", \"Back to previous view\", \"fa fa-arrow-left icon-arrow-left\", \"back\"], [\"Forward\", \"Forward to next view\", \"fa fa-arrow-right icon-arrow-right\", \"forward\"], [\"\", \"\", \"\", \"\"], [\"Pan\", \"Left button pans, Right button zooms\\nx/y fixes axis, CTRL fixes aspect\", \"fa fa-arrows icon-move\", \"pan\"], [\"Zoom\", \"Zoom to rectangle\\nx/y fixes axis, CTRL fixes aspect\", \"fa fa-square-o icon-check-empty\", \"zoom\"], [\"\", \"\", \"\", \"\"], [\"Download\", \"Download plot\", \"fa fa-floppy-o icon-save\", \"download\"]];\n",
       "\n",
       "mpl.extensions = [\"eps\", \"jpeg\", \"pdf\", \"png\", \"ps\", \"raw\", \"svg\", \"tif\"];\n",
       "\n",
       "mpl.default_extension = \"png\";/* global mpl */\n",
       "\n",
       "var comm_websocket_adapter = function (comm) {\n",
       "    // Create a \"websocket\"-like object which calls the given IPython comm\n",
       "    // object with the appropriate methods. Currently this is a non binary\n",
       "    // socket, so there is still some room for performance tuning.\n",
       "    var ws = {};\n",
       "\n",
       "    ws.close = function () {\n",
       "        comm.close();\n",
       "    };\n",
       "    ws.send = function (m) {\n",
       "        //console.log('sending', m);\n",
       "        comm.send(m);\n",
       "    };\n",
       "    // Register the callback with on_msg.\n",
       "    comm.on_msg(function (msg) {\n",
       "        //console.log('receiving', msg['content']['data'], msg);\n",
       "        // Pass the mpl event to the overridden (by mpl) onmessage function.\n",
       "        ws.onmessage(msg['content']['data']);\n",
       "    });\n",
       "    return ws;\n",
       "};\n",
       "\n",
       "mpl.mpl_figure_comm = function (comm, msg) {\n",
       "    // This is the function which gets called when the mpl process\n",
       "    // starts-up an IPython Comm through the \"matplotlib\" channel.\n",
       "\n",
       "    var id = msg.content.data.id;\n",
       "    // Get hold of the div created by the display call when the Comm\n",
       "    // socket was opened in Python.\n",
       "    var element = document.getElementById(id);\n",
       "    var ws_proxy = comm_websocket_adapter(comm);\n",
       "\n",
       "    function ondownload(figure, _format) {\n",
       "        window.open(figure.canvas.toDataURL());\n",
       "    }\n",
       "\n",
       "    var fig = new mpl.figure(id, ws_proxy, ondownload, element);\n",
       "\n",
       "    // Call onopen now - mpl needs it, as it is assuming we've passed it a real\n",
       "    // web socket which is closed, not our websocket->open comm proxy.\n",
       "    ws_proxy.onopen();\n",
       "\n",
       "    fig.parent_element = element;\n",
       "    fig.cell_info = mpl.find_output_cell(\"<div id='\" + id + \"'></div>\");\n",
       "    if (!fig.cell_info) {\n",
       "        console.error('Failed to find cell for figure', id, fig);\n",
       "        return;\n",
       "    }\n",
       "    fig.cell_info[0].output_area.element.one(\n",
       "        'cleared',\n",
       "        { fig: fig },\n",
       "        fig._remove_fig_handler\n",
       "    );\n",
       "};\n",
       "\n",
       "mpl.figure.prototype.handle_close = function (fig, msg) {\n",
       "    var width = fig.canvas.width / fig.ratio;\n",
       "    fig.cell_info[0].output_area.element.off(\n",
       "        'cleared',\n",
       "        fig._remove_fig_handler\n",
       "    );\n",
       "\n",
       "    // Update the output cell to use the data from the current canvas.\n",
       "    fig.push_to_output();\n",
       "    var dataURL = fig.canvas.toDataURL();\n",
       "    // Re-enable the keyboard manager in IPython - without this line, in FF,\n",
       "    // the notebook keyboard shortcuts fail.\n",
       "    IPython.keyboard_manager.enable();\n",
       "    fig.parent_element.innerHTML =\n",
       "        '<img src=\"' + dataURL + '\" width=\"' + width + '\">';\n",
       "    fig.close_ws(fig, msg);\n",
       "};\n",
       "\n",
       "mpl.figure.prototype.close_ws = function (fig, msg) {\n",
       "    fig.send_message('closing', msg);\n",
       "    // fig.ws.close()\n",
       "};\n",
       "\n",
       "mpl.figure.prototype.push_to_output = function (_remove_interactive) {\n",
       "    // Turn the data on the canvas into data in the output cell.\n",
       "    var width = this.canvas.width / this.ratio;\n",
       "    var dataURL = this.canvas.toDataURL();\n",
       "    this.cell_info[1]['text/html'] =\n",
       "        '<img src=\"' + dataURL + '\" width=\"' + width + '\">';\n",
       "};\n",
       "\n",
       "mpl.figure.prototype.updated_canvas_event = function () {\n",
       "    // Tell IPython that the notebook contents must change.\n",
       "    IPython.notebook.set_dirty(true);\n",
       "    this.send_message('ack', {});\n",
       "    var fig = this;\n",
       "    // Wait a second, then push the new image to the DOM so\n",
       "    // that it is saved nicely (might be nice to debounce this).\n",
       "    setTimeout(function () {\n",
       "        fig.push_to_output();\n",
       "    }, 1000);\n",
       "};\n",
       "\n",
       "mpl.figure.prototype._init_toolbar = function () {\n",
       "    var fig = this;\n",
       "\n",
       "    var toolbar = document.createElement('div');\n",
       "    toolbar.classList = 'btn-toolbar';\n",
       "    this.root.appendChild(toolbar);\n",
       "\n",
       "    function on_click_closure(name) {\n",
       "        return function (_event) {\n",
       "            return fig.toolbar_button_onclick(name);\n",
       "        };\n",
       "    }\n",
       "\n",
       "    function on_mouseover_closure(tooltip) {\n",
       "        return function (event) {\n",
       "            if (!event.currentTarget.disabled) {\n",
       "                return fig.toolbar_button_onmouseover(tooltip);\n",
       "            }\n",
       "        };\n",
       "    }\n",
       "\n",
       "    fig.buttons = {};\n",
       "    var buttonGroup = document.createElement('div');\n",
       "    buttonGroup.classList = 'btn-group';\n",
       "    var button;\n",
       "    for (var toolbar_ind in mpl.toolbar_items) {\n",
       "        var name = mpl.toolbar_items[toolbar_ind][0];\n",
       "        var tooltip = mpl.toolbar_items[toolbar_ind][1];\n",
       "        var image = mpl.toolbar_items[toolbar_ind][2];\n",
       "        var method_name = mpl.toolbar_items[toolbar_ind][3];\n",
       "\n",
       "        if (!name) {\n",
       "            /* Instead of a spacer, we start a new button group. */\n",
       "            if (buttonGroup.hasChildNodes()) {\n",
       "                toolbar.appendChild(buttonGroup);\n",
       "            }\n",
       "            buttonGroup = document.createElement('div');\n",
       "            buttonGroup.classList = 'btn-group';\n",
       "            continue;\n",
       "        }\n",
       "\n",
       "        button = fig.buttons[name] = document.createElement('button');\n",
       "        button.classList = 'btn btn-default';\n",
       "        button.href = '#';\n",
       "        button.title = name;\n",
       "        button.innerHTML = '<i class=\"fa ' + image + ' fa-lg\"></i>';\n",
       "        button.addEventListener('click', on_click_closure(method_name));\n",
       "        button.addEventListener('mouseover', on_mouseover_closure(tooltip));\n",
       "        buttonGroup.appendChild(button);\n",
       "    }\n",
       "\n",
       "    if (buttonGroup.hasChildNodes()) {\n",
       "        toolbar.appendChild(buttonGroup);\n",
       "    }\n",
       "\n",
       "    // Add the status bar.\n",
       "    var status_bar = document.createElement('span');\n",
       "    status_bar.classList = 'mpl-message pull-right';\n",
       "    toolbar.appendChild(status_bar);\n",
       "    this.message = status_bar;\n",
       "\n",
       "    // Add the close button to the window.\n",
       "    var buttongrp = document.createElement('div');\n",
       "    buttongrp.classList = 'btn-group inline pull-right';\n",
       "    button = document.createElement('button');\n",
       "    button.classList = 'btn btn-mini btn-primary';\n",
       "    button.href = '#';\n",
       "    button.title = 'Stop Interaction';\n",
       "    button.innerHTML = '<i class=\"fa fa-power-off icon-remove icon-large\"></i>';\n",
       "    button.addEventListener('click', function (_evt) {\n",
       "        fig.handle_close(fig, {});\n",
       "    });\n",
       "    button.addEventListener(\n",
       "        'mouseover',\n",
       "        on_mouseover_closure('Stop Interaction')\n",
       "    );\n",
       "    buttongrp.appendChild(button);\n",
       "    var titlebar = this.root.querySelector('.ui-dialog-titlebar');\n",
       "    titlebar.insertBefore(buttongrp, titlebar.firstChild);\n",
       "};\n",
       "\n",
       "mpl.figure.prototype._remove_fig_handler = function (event) {\n",
       "    var fig = event.data.fig;\n",
       "    fig.close_ws(fig, {});\n",
       "};\n",
       "\n",
       "mpl.figure.prototype._root_extra_style = function (el) {\n",
       "    el.style.boxSizing = 'content-box'; // override notebook setting of border-box.\n",
       "};\n",
       "\n",
       "mpl.figure.prototype._canvas_extra_style = function (el) {\n",
       "    // this is important to make the div 'focusable\n",
       "    el.setAttribute('tabindex', 0);\n",
       "    // reach out to IPython and tell the keyboard manager to turn it's self\n",
       "    // off when our div gets focus\n",
       "\n",
       "    // location in version 3\n",
       "    if (IPython.notebook.keyboard_manager) {\n",
       "        IPython.notebook.keyboard_manager.register_events(el);\n",
       "    } else {\n",
       "        // location in version 2\n",
       "        IPython.keyboard_manager.register_events(el);\n",
       "    }\n",
       "};\n",
       "\n",
       "mpl.figure.prototype._key_event_extra = function (event, _name) {\n",
       "    var manager = IPython.notebook.keyboard_manager;\n",
       "    if (!manager) {\n",
       "        manager = IPython.keyboard_manager;\n",
       "    }\n",
       "\n",
       "    // Check for shift+enter\n",
       "    if (event.shiftKey && event.which === 13) {\n",
       "        this.canvas_div.blur();\n",
       "        // select the cell after this one\n",
       "        var index = IPython.notebook.find_cell_index(this.cell_info[0]);\n",
       "        IPython.notebook.select(index + 1);\n",
       "    }\n",
       "};\n",
       "\n",
       "mpl.figure.prototype.handle_save = function (fig, _msg) {\n",
       "    fig.ondownload(fig, null);\n",
       "};\n",
       "\n",
       "mpl.find_output_cell = function (html_output) {\n",
       "    // Return the cell and output element which can be found *uniquely* in the notebook.\n",
       "    // Note - this is a bit hacky, but it is done because the \"notebook_saving.Notebook\"\n",
       "    // IPython event is triggered only after the cells have been serialised, which for\n",
       "    // our purposes (turning an active figure into a static one), is too late.\n",
       "    var cells = IPython.notebook.get_cells();\n",
       "    var ncells = cells.length;\n",
       "    for (var i = 0; i < ncells; i++) {\n",
       "        var cell = cells[i];\n",
       "        if (cell.cell_type === 'code') {\n",
       "            for (var j = 0; j < cell.output_area.outputs.length; j++) {\n",
       "                var data = cell.output_area.outputs[j];\n",
       "                if (data.data) {\n",
       "                    // IPython >= 3 moved mimebundle to data attribute of output\n",
       "                    data = data.data;\n",
       "                }\n",
       "                if (data['text/html'] === html_output) {\n",
       "                    return [cell, data, j];\n",
       "                }\n",
       "            }\n",
       "        }\n",
       "    }\n",
       "};\n",
       "\n",
       "// Register the function which deals with the matplotlib target/channel.\n",
       "// The kernel may be null if the page has been refreshed.\n",
       "if (IPython.notebook.kernel !== null) {\n",
       "    IPython.notebook.kernel.comm_manager.register_target(\n",
       "        'matplotlib',\n",
       "        mpl.mpl_figure_comm\n",
       "    );\n",
       "}\n"
      ],
      "text/plain": [
       "<IPython.core.display.Javascript object>"
      ]
     },
     "metadata": {},
     "output_type": "display_data"
    },
    {
     "data": {
      "text/html": [
       "<img src=\"data:image/png;base64,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\" width=\"432\">"
      ],
      "text/plain": [
       "<IPython.core.display.HTML object>"
      ]
     },
     "metadata": {},
     "output_type": "display_data"
    }
   ],
   "source": [
    "%matplotlib notebook \n",
    "# by default, it is always inline\n",
    "\n",
    "x = np.linspace(0,10,100)\n",
    "y = np.sin(x)\n",
    "z = np.cos(x)\n",
    "plt.plot(x,y)\n",
    "plt.plot(x,z);"
   ]
  },
  {
   "cell_type": "code",
   "execution_count": 109,
   "metadata": {},
   "outputs": [],
   "source": [
    "%matplotlib inline \n",
    "# by default, it is always inline"
   ]
  },
  {
   "cell_type": "code",
   "execution_count": 111,
   "metadata": {},
   "outputs": [
    {
     "data": {
      "image/png": "[encoded data removed]",
      "text/plain": [
       "<Figure size 432x288 with 1 Axes>"
      ]
     },
     "metadata": {
      "needs_background": "light"
     },
     "output_type": "display_data"
    }
   ],
   "source": [
    "x = np.linspace(0,10,100)\n",
    "plt.plot(x,np.sin(x),'-') # Solid Line\n",
    "plt.plot(x,np.cos(x),'--'); # Dashed Line"
   ]
  },
  {
   "cell_type": "code",
   "execution_count": 121,
   "metadata": {},
   "outputs": [
    {
     "data": {
      "image/png": "[encoded data removed]",
      "text/plain": [
       "<Figure size 360x576 with 2 Axes>"
      ]
     },
     "metadata": {
      "needs_background": "light"
     },
     "output_type": "display_data"
    }
   ],
   "source": [
    "plt.figure(figsize=(5,8))\n",
    "plt.subplot(2,1,1)\n",
    "plt.plot(x,np.sin(x),'-')\n",
    "\n",
    "plt.subplot(2,1,2)\n",
    "plt.plot(x,np.cos(x),'--');"
   ]
  },
  {
   "cell_type": "code",
   "execution_count": 117,
   "metadata": {},
   "outputs": [
    {
     "data": {
      "image/png": "[encoded data removed]",
      "text/plain": [
       "<Figure size 720x216 with 2 Axes>"
      ]
     },
     "metadata": {
      "needs_background": "light"
     },
     "output_type": "display_data"
    }
   ],
   "source": [
    "plt.figure(figsize=(10,3))\n",
    "plt.subplot(1,2,1)\n",
    "plt.plot(x,np.sin(x),'-')\n",
    "\n",
    "plt.subplot(1,2,2)\n",
    "plt.plot(x,np.cos(x),'--');"
   ]
  },
  {
   "cell_type": "code",
   "execution_count": 122,
   "metadata": {},
   "outputs": [
    {
     "name": "stdout",
     "output_type": "stream",
     "text": [
      "Help on function figure in module matplotlib.pyplot:\n",
      "\n",
      "figure(num=None, figsize=None, dpi=None, facecolor=None, edgecolor=None, frameon=True, FigureClass=<class 'matplotlib.figure.Figure'>, clear=False, **kwargs)\n",
      "    Create a new figure, or activate an existing figure.\n",
      "    \n",
      "    Parameters\n",
      "    ----------\n",
      "    num : int or str, optional\n",
      "        A unique identifier for the figure.\n",
      "    \n",
      "        If a figure with that identifier already exists, this figure is made\n",
      "        active and returned. An integer refers to the ``Figure.number``\n",
      "        attribute, a string refers to the figure label.\n",
      "    \n",
      "        If there is no figure with the identifier or *num* is not given, a new\n",
      "        figure is created, made active and returned.  If *num* is an int, it\n",
      "        will be used for the ``Figure.number`` attribute, otherwise, an\n",
      "        auto-generated integer value is used (starting at 1 and incremented\n",
      "        for each new figure). If *num* is a string, the figure label and the\n",
      "        window title is set to this value.\n",
      "    \n",
      "    figsize : (float, float), default: :rc:`figure.figsize`\n",
      "        Width, height in inches.\n",
      "    \n",
      "    dpi : float, default: :rc:`figure.dpi`\n",
      "        The resolution of the figure in dots-per-inch.\n",
      "    \n",
      "    facecolor : color, default: :rc:`figure.facecolor`\n",
      "        The background color.\n",
      "    \n",
      "    edgecolor : color, default: :rc:`figure.edgecolor`\n",
      "        The border color.\n",
      "    \n",
      "    frameon : bool, default: True\n",
      "        If False, suppress drawing the figure frame.\n",
      "    \n",
      "    FigureClass : subclass of `~matplotlib.figure.Figure`\n",
      "        Optionally use a custom `.Figure` instance.\n",
      "    \n",
      "    clear : bool, default: False\n",
      "        If True and the figure already exists, then it is cleared.\n",
      "    \n",
      "    tight_layout : bool or dict, default: :rc:`figure.autolayout`\n",
      "        If ``False`` use *subplotpars*. If ``True`` adjust subplot\n",
      "        parameters using `.tight_layout` with default padding.\n",
      "        When providing a dict containing the keys ``pad``, ``w_pad``,\n",
      "        ``h_pad``, and ``rect``, the default `.tight_layout` paddings\n",
      "        will be overridden.\n",
      "    \n",
      "    constrained_layout : bool, default: :rc:`figure.constrained_layout.use`\n",
      "        If ``True`` use constrained layout to adjust positioning of plot\n",
      "        elements.  Like ``tight_layout``, but designed to be more\n",
      "        flexible.  See\n",
      "        :doc:`/tutorials/intermediate/constrainedlayout_guide`\n",
      "        for examples.  (Note: does not work with `add_subplot` or\n",
      "        `~.pyplot.subplot2grid`.)\n",
      "    \n",
      "    \n",
      "    **kwargs : optional\n",
      "        See `~.matplotlib.figure.Figure` for other possible arguments.\n",
      "    \n",
      "    Returns\n",
      "    -------\n",
      "    `~matplotlib.figure.Figure`\n",
      "        The `.Figure` instance returned will also be passed to\n",
      "        new_figure_manager in the backends, which allows to hook custom\n",
      "        `.Figure` classes into the pyplot interface. Additional kwargs will be\n",
      "        passed to the `.Figure` init function.\n",
      "    \n",
      "    Notes\n",
      "    -----\n",
      "    If you are creating many figures, make sure you explicitly call\n",
      "    `.pyplot.close` on the figures you are not using, because this will\n",
      "    enable pyplot to properly clean up the memory.\n",
      "    \n",
      "    `~matplotlib.rcParams` defines the default values, which can be modified\n",
      "    in the matplotlibrc file.\n",
      "\n"
     ]
    }
   ],
   "source": [
    "help(plt.figure)"
   ]
  }
 ],
 "metadata": {
  "kernelspec": {
   "display_name": "Python 3",
   "language": "python",
   "name": "python3"
  },
  "language_info": {
   "codemirror_mode": {
    "name": "ipython",
    "version": 3
   },
   "file_extension": ".py",
   "mimetype": "text/x-python",
   "name": "python",
   "nbconvert_exporter": "python",
   "pygments_lexer": "ipython3",
   "version": "3.8.5"
  }
 },
 "nbformat": 4,
 "nbformat_minor": 4
}
