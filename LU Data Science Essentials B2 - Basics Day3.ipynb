{
 "cells": [
  {
   "cell_type": "markdown",
   "metadata": {},
   "source": [
    "# Day 3\n",
    "\n",
    "List Functions\n",
    "\n",
    "Sets\n",
    "\n",
    "Dictionary"
   ]
  },
  {
   "cell_type": "code",
   "execution_count": 7,
   "metadata": {
    "scrolled": true
   },
   "outputs": [
    {
     "name": "stdout",
     "output_type": "stream",
     "text": [
      "[10, 20, 30, 40, 50, 10, 20, 10, 20, 10, 20, 50, 70]\n",
      "[10, 20, 30, 40, 50, 10, 20, 10, 20, 10, 20, 50, 70, 60]\n",
      "[10, 20, 30, 40, 50, 10, 20, 10, 20, 10, 20, 50, 70, 60, 999, 555, 444]\n",
      "4\n",
      "3\n",
      "1\n",
      "6\n",
      "[10, 20, 30, 40, 50, 10, 20, 10, 20, 10, 20, 50, 60, 999, 555, 444]\n",
      "[10, 45222, 20, 30, 40, 50, 10, 20, 10, 20, 10, 20, 50, 60, 999, 555, 444]\n",
      "17\n",
      "[444, 555, 999, 60, 50, 20, 10, 20, 10, 20, 10, 50, 40, 30, 20, 45222, 10]\n",
      "[10, 10, 10, 10, 20, 20, 20, 20, 30, 40, 50, 50, 60, 444, 555, 999, 45222]\n",
      "[45222, 999, 555, 444, 60, 50, 50, 40, 30, 20, 20, 20, 20, 10, 10, 10, 10]\n"
     ]
    }
   ],
   "source": [
    "# List Functions\n",
    "\n",
    "l = [10,20,30,40,50,10,20,10,20,10,20,50,70]\n",
    "print(l)\n",
    "l.append(60)   #insert 1 value at the end\n",
    "print(l)\n",
    "l.extend([999,555,444])   #insert multiple values at the end\n",
    "print(l)\n",
    "print(l.count(20))\n",
    "print(l.index(40))\n",
    "print(l.index(20))\n",
    "print(l.index(20,2))\n",
    "l.remove(70)\n",
    "print(l)\n",
    "l.insert(1,45222)    #insert value at any given location in list\n",
    "print(l)\n",
    "print(len(l))\n",
    "l.reverse()\n",
    "print(l)\n",
    "l.sort()   #by default sorting in acsending order\n",
    "print(l)\n",
    "l.sort(reverse=True)  #sort in decsending order\n",
    "print(l)"
   ]
  },
  {
   "cell_type": "code",
   "execution_count": 9,
   "metadata": {},
   "outputs": [
    {
     "name": "stdout",
     "output_type": "stream",
     "text": [
      "[10, 30, 40, 50]\n",
      "[10, 30, 50]\n"
     ]
    }
   ],
   "source": [
    "l = [10,20,30,40,50]\n",
    "l.remove(20) # remove the exact given value\n",
    "print(l)\n",
    "l.pop(2) # remove a value at a given index location\n",
    "print(l)"
   ]
  },
  {
   "cell_type": "code",
   "execution_count": 12,
   "metadata": {},
   "outputs": [
    {
     "name": "stdout",
     "output_type": "stream",
     "text": [
      "How many numbers you want to insert: 5\n",
      "1\n",
      "2\n",
      "3\n",
      "4\n",
      "5\n",
      "[1.0, 2.0, 3.0, 4.0, 5.0]\n",
      "15.0\n"
     ]
    }
   ],
   "source": [
    "# WAP to accept n numbers from the user and perform its addition.\n",
    "\n",
    "l = []\n",
    "n = int(input(\"How many numbers you want to insert: \"))\n",
    "for i in range(n):\n",
    "    temp = float(input())\n",
    "    l.append(temp)\n",
    "print(l)\n",
    "print(sum(l))"
   ]
  },
  {
   "cell_type": "markdown",
   "metadata": {},
   "source": [
    "# Set\n",
    "\n",
    "It is unordered and unindexed."
   ]
  },
  {
   "cell_type": "code",
   "execution_count": 13,
   "metadata": {},
   "outputs": [
    {
     "name": "stdout",
     "output_type": "stream",
     "text": [
      "{40, 10, 50, 20, 30}\n",
      "<class 'set'>\n"
     ]
    }
   ],
   "source": [
    "s = {10,20,30,40,50}\n",
    "print(s)\n",
    "print(type(s)) # unordered\n",
    "#print(s[1]) # unindexed"
   ]
  },
  {
   "cell_type": "code",
   "execution_count": 29,
   "metadata": {},
   "outputs": [
    {
     "name": "stdout",
     "output_type": "stream",
     "text": [
      "{'banana', 'apple', 'cherry'}\n"
     ]
    }
   ],
   "source": [
    "thisset = {\"apple\", \"banana\", \"cherry\"}\n",
    "print(thisset)"
   ]
  },
  {
   "cell_type": "code",
   "execution_count": 30,
   "metadata": {},
   "outputs": [
    {
     "name": "stdout",
     "output_type": "stream",
     "text": [
      "{'banana', 'apple', 'cherry'}\n"
     ]
    }
   ],
   "source": [
    "# Sets are UNIQUE\n",
    "thisset = {\"apple\", \"banana\", \"cherry\", \"apple\"}\n",
    "\n",
    "print(thisset)"
   ]
  },
  {
   "cell_type": "code",
   "execution_count": 31,
   "metadata": {},
   "outputs": [
    {
     "name": "stdout",
     "output_type": "stream",
     "text": [
      "3\n"
     ]
    }
   ],
   "source": [
    "thisset = {\"apple\", \"banana\", \"cherry\"}\n",
    "\n",
    "print(len(thisset))"
   ]
  },
  {
   "cell_type": "code",
   "execution_count": 14,
   "metadata": {},
   "outputs": [
    {
     "name": "stdout",
     "output_type": "stream",
     "text": [
      "True\n",
      "False\n"
     ]
    }
   ],
   "source": [
    "thisset = {\"apple\", \"banana\", \"cherry\"}\n",
    "\n",
    "print(\"banana\" in thisset)\n",
    "print(\"watermelon\" in thisset)"
   ]
  },
  {
   "cell_type": "code",
   "execution_count": 34,
   "metadata": {},
   "outputs": [
    {
     "name": "stdout",
     "output_type": "stream",
     "text": [
      "{'orange', 'banana', 'apple', 'cherry'}\n"
     ]
    }
   ],
   "source": [
    "#add a value in set\n",
    "thisset = {\"apple\", \"banana\", \"cherry\"}\n",
    "\n",
    "thisset.add(\"orange\")\n",
    "\n",
    "print(thisset)"
   ]
  },
  {
   "cell_type": "code",
   "execution_count": 41,
   "metadata": {},
   "outputs": [
    {
     "name": "stdout",
     "output_type": "stream",
     "text": [
      "['orange', 'banana', 'apple', 'cherry']\n"
     ]
    }
   ],
   "source": [
    "#convert set to list\n",
    "thisset = {\"apple\", \"banana\", \"orange\", \"cherry\"}\n",
    "\n",
    "l = list(thisset)\n",
    "print(l)"
   ]
  },
  {
   "cell_type": "code",
   "execution_count": 15,
   "metadata": {},
   "outputs": [
    {
     "name": "stdout",
     "output_type": "stream",
     "text": [
      "{'papaya', 'mango', 'pineapple', 'cherry', 'banana', 'apple'}\n"
     ]
    }
   ],
   "source": [
    "#add two sets\n",
    "thisset = {\"apple\", \"banana\", \"cherry\"}\n",
    "tropical = {\"pineapple\", \"mango\", \"papaya\"}\n",
    "\n",
    "thisset.update(tropical)\n",
    "\n",
    "print(thisset)"
   ]
  },
  {
   "cell_type": "code",
   "execution_count": 16,
   "metadata": {},
   "outputs": [
    {
     "name": "stdout",
     "output_type": "stream",
     "text": [
      "{'cherry', 'apple'}\n"
     ]
    }
   ],
   "source": [
    "#remove value from set\n",
    "thisset = {\"apple\", \"banana\", \"cherry\"}\n",
    "\n",
    "thisset.remove(\"banana\")\n",
    "\n",
    "print(thisset)"
   ]
  },
  {
   "cell_type": "code",
   "execution_count": 45,
   "metadata": {},
   "outputs": [
    {
     "name": "stdout",
     "output_type": "stream",
     "text": [
      "banana\n",
      "{'apple', 'cherry'}\n"
     ]
    }
   ],
   "source": [
    "thisset = {\"apple\", \"banana\", \"cherry\"}\n",
    "\n",
    "x = thisset.pop()\n",
    "\n",
    "print(x)\n",
    "\n",
    "print(thisset)\n",
    "# Note: Sets are unordered, so when using the pop() method, you do not know which item that gets removed."
   ]
  },
  {
   "cell_type": "raw",
   "metadata": {},
   "source": [
    "https://www.w3schools.com/python/python_sets.asp"
   ]
  },
  {
   "cell_type": "markdown",
   "metadata": {},
   "source": [
    "# Dictionary\n",
    "\n",
    "It is stored in the form { KEY : VALUE }\n",
    "\n",
    "Keys are Fixed\n",
    "\n",
    "Values are Mutable(flexible)."
   ]
  },
  {
   "cell_type": "code",
   "execution_count": 47,
   "metadata": {},
   "outputs": [
    {
     "name": "stdout",
     "output_type": "stream",
     "text": [
      "{1: 25000, 2: 20000, 3: 29000, 4: 15000, 5: 32000}\n",
      "<class 'dict'>\n"
     ]
    }
   ],
   "source": [
    "d = { 1:25000, 2:20000, 3:29000, 4:15000, 5:32000 }\n",
    "print(d)\n",
    "print(type(d))"
   ]
  },
  {
   "cell_type": "code",
   "execution_count": 48,
   "metadata": {},
   "outputs": [
    {
     "name": "stdout",
     "output_type": "stream",
     "text": [
      "{154: 25000, 2: 20000, 13: 29000, 41: 15000, 5: 32000}\n",
      "<class 'dict'>\n"
     ]
    }
   ],
   "source": [
    "d = { 154:25000, 2:20000, 13:29000, 41:15000, 5:32000 }\n",
    "print(d)\n",
    "print(type(d))"
   ]
  },
  {
   "cell_type": "code",
   "execution_count": 50,
   "metadata": {},
   "outputs": [
    {
     "name": "stdout",
     "output_type": "stream",
     "text": [
      "{154: 25000, 2: 2000045, 13: 29000, 41: 15000, 5: 32000}\n",
      "<class 'dict'>\n"
     ]
    }
   ],
   "source": [
    "d = { 154:25000, 2:2000045, 13:29000, 41:15000, 5:32000 }\n",
    "print(d)\n",
    "print(type(d))"
   ]
  },
  {
   "cell_type": "code",
   "execution_count": 52,
   "metadata": {},
   "outputs": [
    {
     "name": "stdout",
     "output_type": "stream",
     "text": [
      "{1.54: 25000, 2.9: 2000045, 13: 29000, 41: 15000, 5: 32000}\n",
      "<class 'dict'>\n"
     ]
    }
   ],
   "source": [
    "d = { 1.54:25000, 2.9:2000045, 13:29000, 41:15000, 5:32000 }\n",
    "print(d)\n",
    "print(type(d))"
   ]
  },
  {
   "cell_type": "code",
   "execution_count": 58,
   "metadata": {},
   "outputs": [
    {
     "name": "stdout",
     "output_type": "stream",
     "text": [
      "{1.54: 25000, 2.9: 2000045, 'AM': 29000, 41: 15000, 5: 32000}\n",
      "<class 'dict'>\n",
      "25000\n",
      "29000\n",
      "32000\n"
     ]
    }
   ],
   "source": [
    "d = { 1.54:25000, 2.9:2000045, 'AM':29000, 41:15000, 5:32000 }\n",
    "print(d)\n",
    "print(type(d))\n",
    "print(d[1.54])\n",
    "print(d['AM'])\n",
    "print(d[5])"
   ]
  },
  {
   "cell_type": "code",
   "execution_count": 61,
   "metadata": {},
   "outputs": [
    {
     "name": "stdout",
     "output_type": "stream",
     "text": [
      "{1.54: 25000, 2.9: 'Darshan', 'AM': 29000, 41: 15000, 5: 32000}\n"
     ]
    }
   ],
   "source": [
    "d = { 1.54:25000, 2.9:2000045, 'AM':29000, 41:15000, 5:32000, 2.9:'Darshan'}\n",
    "print(d)"
   ]
  },
  {
   "cell_type": "code",
   "execution_count": null,
   "metadata": {},
   "outputs": [],
   "source": []
  }
 ],
 "metadata": {
  "kernelspec": {
   "display_name": "Python 3",
   "language": "python",
   "name": "python3"
  },
  "language_info": {
   "codemirror_mode": {
    "name": "ipython",
    "version": 3
   },
   "file_extension": ".py",
   "mimetype": "text/x-python",
   "name": "python",
   "nbconvert_exporter": "python",
   "pygments_lexer": "ipython3",
   "version": "3.6.10"
  }
 },
 "nbformat": 4,
 "nbformat_minor": 4
}
